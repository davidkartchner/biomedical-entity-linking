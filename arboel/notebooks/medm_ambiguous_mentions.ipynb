{
 "cells": [
  {
   "cell_type": "code",
   "execution_count": 1,
   "id": "d783ba30",
   "metadata": {},
   "outputs": [],
   "source": [
    "import json\n",
    "import os\n",
    "import pickle\n",
    "import torch\n",
    "import numpy as np"
   ]
  },
  {
   "cell_type": "code",
   "execution_count": 2,
   "id": "7e6f150d",
   "metadata": {},
   "outputs": [],
   "source": [
    "# Read JSON\n",
    "def read_json(fname):\n",
    "    with open(fname, \"r\") as handle:\n",
    "        res = handle.read()\n",
    "        obj = json.loads(res)\n",
    "    return obj"
   ]
  },
  {
   "cell_type": "code",
   "execution_count": 3,
   "id": "7f4f1719",
   "metadata": {},
   "outputs": [],
   "source": [
    "# Read pickle\n",
    "def read_pkl(fname):\n",
    "    with open(fname, 'rb') as handle:\n",
    "        obj_pkl = pickle.load(handle)\n",
    "    return obj_pkl"
   ]
  },
  {
   "cell_type": "code",
   "execution_count": 4,
   "id": "3b1b5c36",
   "metadata": {},
   "outputs": [],
   "source": [
    "# Read torch \n",
    "def read_torch(fname):\n",
    "    obj = torch.load(fname)\n",
    "    return obj"
   ]
  },
  {
   "cell_type": "code",
   "execution_count": 5,
   "id": "cf5f9b55",
   "metadata": {},
   "outputs": [],
   "source": [
    "test_data = read_pkl('../data/medmentions/test_processed_data.pickle')"
   ]
  },
  {
   "cell_type": "code",
   "execution_count": 7,
   "id": "b03f0e48",
   "metadata": {},
   "outputs": [
    {
     "data": {
      "text/plain": [
       "[]"
      ]
     },
     "execution_count": 7,
     "metadata": {},
     "output_type": "execute_result"
    }
   ],
   "source": [
    "from collections import defaultdict\n",
    "menlabel = defaultdict(set)\n",
    "for t in test_data:\n",
    "    menlabel[t['mention_name']].add(t['label_idxs'][0])\n",
    "ambig_list = []\n",
    "for m in menlabel:\n",
    "    if len(menlabel[m]) >= 10:\n",
    "        ambig_list.append(m)\n",
    "assert len(ambig_list) == len(set(ambig_list))\n",
    "ambig_list"
   ]
  },
  {
   "cell_type": "code",
   "execution_count": 9,
   "id": "f1f20640",
   "metadata": {},
   "outputs": [
    {
     "data": {
      "text/plain": [
       "{872673, 872948, 944893, 953135, 964325, 976724}"
      ]
     },
     "execution_count": 9,
     "metadata": {},
     "output_type": "execute_result"
    }
   ],
   "source": []
  },
  {
   "cell_type": "code",
   "execution_count": 12,
   "id": "89665211",
   "metadata": {},
   "outputs": [],
   "source": [
    "ambig_list = ['activation', 'activity', 'a', 'b', 'cardiac', 'cells', 'clinical', 'compounds', 'cr', \n",
    "              'development', 'disease', 'function', 'fusion', 'inhibition', 'injuries', 'injury', \n",
    "              'liver', 'management', 'methods', 'mice', 'model', 'pa', 'production', 'protein', 'regulation', \n",
    "              'report', 'responses', 'response', 'r', 'screening', 'stress', 'studies', 'study', 'treatment']"
   ]
  },
  {
   "cell_type": "code",
   "execution_count": 44,
   "id": "136cbe72",
   "metadata": {},
   "outputs": [
    {
     "name": "stdout",
     "output_type": "stream",
     "text": [
      "Total ambiguous mentions in test: 1247\n"
     ]
    }
   ],
   "source": [
    "ambig_count = 0\n",
    "for o in test_data:\n",
    "    if o['mention_name'] in ambig_list:\n",
    "        ambig_count += 1\n",
    "print(f\"Total ambiguous mentions in test: {ambig_count}\")"
   ]
  },
  {
   "cell_type": "code",
   "execution_count": 45,
   "id": "b259a610",
   "metadata": {},
   "outputs": [],
   "source": [
    "results = {}\n",
    "results['arbo'] = read_json('../data/medmentions/results/cross_arbo.json')\n",
    "results['1rand'] = read_json('../data/medmentions/results/cross_1rand.json')\n",
    "results['1nn'] = read_json('../data/medmentions/results/cross_1nn.json')\n",
    "results['knn'] = read_json('../data/medmentions/results/cross_knn.json')\n",
    "results['in_batch'] = read_json('../data/medmentions/results/cross_in_batch.json')"
   ]
  },
  {
   "cell_type": "code",
   "execution_count": 46,
   "id": "d2a80a7e",
   "metadata": {},
   "outputs": [
    {
     "name": "stdout",
     "output_type": "stream",
     "text": [
      "Angell et al.: Ambiguous accuracy = 73.03\n"
     ]
    }
   ],
   "source": [
    "# Angell et al.: Ambiguous accuracy\n",
    "print(f\"Angell et al.: Ambiguous accuracy = {73.03}\")"
   ]
  },
  {
   "cell_type": "code",
   "execution_count": 47,
   "id": "5b50d2e0",
   "metadata": {},
   "outputs": [
    {
     "data": {
      "text/plain": [
       "{'arbo': 76.82, '1rand': 75.7, '1nn': 74.58, 'knn': 72.41, 'in_batch': 76.02}"
      ]
     },
     "execution_count": 47,
     "metadata": {},
     "output_type": "execute_result"
    }
   ],
   "source": [
    "acc = {}\n",
    "\n",
    "for mode in results:    \n",
    "    fail = succ = 0\n",
    "    for o in results[mode]['failure']:\n",
    "        if o['mention_name'] in ambig_list:\n",
    "            fail += 1\n",
    "    for o in results[mode]['success']:\n",
    "        if o['mention_name'] in ambig_list:\n",
    "            succ += 1\n",
    "    acc[mode] = round((succ / ambig_count)*100, 2)\n",
    "acc"
   ]
  },
  {
   "cell_type": "code",
   "execution_count": 48,
   "id": "8fe831b4",
   "metadata": {},
   "outputs": [],
   "source": [
    "# Oracle results\n",
    "oresults = {}\n",
    "oresults['arbo'] = read_json('../data/medmentions/results/oracle_cross_arbo.json')\n",
    "oresults['1rand'] = read_json('../data/medmentions/results/oracle_cross_1rand.json')\n",
    "oresults['1nn'] = read_json('../data/medmentions/results/oracle_cross_1nn.json')\n",
    "oresults['knn'] = read_json('../data/medmentions/results/oracle_cross_knn.json')\n",
    "oresults['in_batch'] = read_json('../data/medmentions/results/oracle_cross_in_batch.json')"
   ]
  },
  {
   "cell_type": "code",
   "execution_count": 50,
   "id": "3c4409b6",
   "metadata": {},
   "outputs": [
    {
     "data": {
      "text/plain": [
       "{'arbo': 76.82, '1rand': 75.7, '1nn': 74.34, 'knn': 10.26, 'in_batch': 12.51}"
      ]
     },
     "execution_count": 50,
     "metadata": {},
     "output_type": "execute_result"
    }
   ],
   "source": [
    "oacc = {}\n",
    "\n",
    "for mode in oresults:    \n",
    "    fail = succ = 0\n",
    "    for o in oresults[mode]['failure']:\n",
    "        if o['mention_name'] in ambig_list:\n",
    "            fail += 1\n",
    "    for o in oresults[mode]['success']:\n",
    "        if o['mention_name'] in ambig_list:\n",
    "            succ += 1\n",
    "    oacc[mode] = round((succ / ambig_count)*100, 2)\n",
    "oacc"
   ]
  },
  {
   "cell_type": "code",
   "execution_count": null,
   "id": "f78a1edf",
   "metadata": {},
   "outputs": [],
   "source": []
  }
 ],
 "metadata": {
  "kernelspec": {
   "display_name": "Python 3 (ipykernel)",
   "language": "python",
   "name": "python3"
  },
  "language_info": {
   "codemirror_mode": {
    "name": "ipython",
    "version": 3
   },
   "file_extension": ".py",
   "mimetype": "text/x-python",
   "name": "python",
   "nbconvert_exporter": "python",
   "pygments_lexer": "ipython3",
   "version": "3.7.10"
  }
 },
 "nbformat": 4,
 "nbformat_minor": 5
}

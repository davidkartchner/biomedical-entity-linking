{
 "cells": [
  {
   "cell_type": "code",
   "execution_count": 1,
   "id": "d783ba30",
   "metadata": {},
   "outputs": [],
   "source": [
    "import json\n",
    "import os\n",
    "import pickle\n",
    "import torch\n",
    "import numpy as np"
   ]
  },
  {
   "cell_type": "code",
   "execution_count": 2,
   "id": "7e6f150d",
   "metadata": {},
   "outputs": [],
   "source": [
    "# Read JSON\n",
    "def read_json(fname):\n",
    "    with open(fname, \"r\") as handle:\n",
    "        res = handle.read()\n",
    "        obj = json.loads(res)\n",
    "    return obj"
   ]
  },
  {
   "cell_type": "code",
   "execution_count": 3,
   "id": "7f4f1719",
   "metadata": {},
   "outputs": [],
   "source": [
    "# Read pickle\n",
    "def read_pkl(fname):\n",
    "    with open(fname, 'rb') as handle:\n",
    "        obj_pkl = pickle.load(handle)\n",
    "    return obj_pkl"
   ]
  },
  {
   "cell_type": "code",
   "execution_count": 4,
   "id": "3b1b5c36",
   "metadata": {},
   "outputs": [],
   "source": [
    "# Read torch \n",
    "def read_torch(fname):\n",
    "    obj = torch.load(fname)\n",
    "    return obj"
   ]
  },
  {
   "cell_type": "code",
   "execution_count": 7,
   "id": "a8ed2611",
   "metadata": {},
   "outputs": [
    {
     "name": "stdout",
     "output_type": "stream",
     "text": [
      "\u001b[31mtest.json\u001b[m\u001b[m  \u001b[31mtrain.json\u001b[m\u001b[m \u001b[31mval.json\u001b[m\u001b[m\r\n"
     ]
    }
   ],
   "source": [
    "!ls ../data/medmentions/mentions"
   ]
  },
  {
   "cell_type": "code",
   "execution_count": 31,
   "id": "cf5f9b55",
   "metadata": {},
   "outputs": [],
   "source": [
    "test_data = read_pkl('../data/zeshel/test_processed_data.pickle')"
   ]
  },
  {
   "cell_type": "code",
   "execution_count": 32,
   "id": "b259a610",
   "metadata": {},
   "outputs": [],
   "source": [
    "results = {}\n",
    "results['arbo'] = read_json('../data/zeshel/results/cross_arbo.json')\n",
    "results['1rand'] = read_json('../data/zeshel/results/cross_1rand.json')"
   ]
  },
  {
   "cell_type": "code",
   "execution_count": 33,
   "id": "0ef977fd",
   "metadata": {},
   "outputs": [],
   "source": [
    "arbo_succ = set()\n",
    "for o in results['arbo']['success']:\n",
    "    arbo_succ.add(o['mention_id'])\n",
    "rand1_succ = set()\n",
    "for o in results['1rand']['success']:\n",
    "    rand1_succ.add(o['mention_id'])"
   ]
  },
  {
   "cell_type": "code",
   "execution_count": 34,
   "id": "b6da5626",
   "metadata": {},
   "outputs": [],
   "source": [
    "arbo_fail = set()\n",
    "rand1_fail = set()\n",
    "for o in test_data:\n",
    "    if o['mention_id'] not in arbo_succ:\n",
    "        arbo_fail.add(o['mention_id'])\n",
    "    if o['mention_id'] not in rand1_succ:\n",
    "        rand1_fail.add(o['mention_id'])"
   ]
  },
  {
   "cell_type": "code",
   "execution_count": 35,
   "id": "1e7a9046",
   "metadata": {},
   "outputs": [],
   "source": [
    "# Common \n",
    "common_succ = len(arbo_succ.intersection(rand1_succ))\n",
    "len_arbo_succ = len(arbo_succ)\n",
    "len_arbo_fail = results['arbo']['unfiltered_length'] - len(arbo_succ)\n",
    "len_1rand_succ = len(rand1_succ)\n",
    "len_1rand_fail = results['arbo']['unfiltered_length'] - len(rand1_succ)"
   ]
  },
  {
   "cell_type": "code",
   "execution_count": 30,
   "id": "dbd54b9e",
   "metadata": {},
   "outputs": [
    {
     "name": "stdout",
     "output_type": "stream",
     "text": [
      "\tArbo\tRand\n",
      "Arbo\t0\t4.94\n",
      "Rand\t4.1\t0\n",
      "\n",
      "Success overlap: 70.79\n"
     ]
    }
   ],
   "source": [
    "# MEDMENTIONS (success-row, failure-column)\n",
    "print(f\"\"\"\\tArbo\\tRand\n",
    "Arbo\\t{0}\\t{round(len(arbo_succ.intersection(rand1_fail))/results['arbo']['unfiltered_length']*100, 2)}\n",
    "Rand\\t{round(len(rand1_succ.intersection(arbo_fail))/results['arbo']['unfiltered_length']*100,2)}\\t0\n",
    "\"\"\")\n",
    "\n",
    "print(f\"Success overlap: {round(common_succ/results['arbo']['unfiltered_length']*100, 2)}\")"
   ]
  },
  {
   "cell_type": "code",
   "execution_count": 36,
   "id": "26d4de7b",
   "metadata": {},
   "outputs": [
    {
     "name": "stdout",
     "output_type": "stream",
     "text": [
      "\tArbo\tRand\n",
      "Arbo\t0\t5.13\n",
      "Rand\t6.76\t0\n",
      "\n",
      "Success overlap: 55.59\n"
     ]
    }
   ],
   "source": [
    "# ZESHEL (success-row, failure-column)\n",
    "print(f\"\"\"\\tArbo\\tRand\n",
    "Arbo\\t{0}\\t{round(len(arbo_succ.intersection(rand1_fail))/results['arbo']['unfiltered_length']*100, 2)}\n",
    "Rand\\t{round(len(rand1_succ.intersection(arbo_fail))/results['arbo']['unfiltered_length']*100,2)}\\t0\n",
    "\"\"\")\n",
    "\n",
    "print(f\"Success overlap: {round(common_succ/results['arbo']['unfiltered_length']*100, 2)}\")"
   ]
  },
  {
   "cell_type": "code",
   "execution_count": 43,
   "id": "72975f49",
   "metadata": {},
   "outputs": [
    {
     "data": {
      "text/plain": [
       "0.1189"
      ]
     },
     "execution_count": 43,
     "metadata": {},
     "output_type": "execute_result"
    }
   ],
   "source": [
    "len(set().union(arbo_succ.intersection(rand1_fail), rand1_succ.intersection(arbo_fail)))/results['arbo']['unfiltered_length']"
   ]
  },
  {
   "cell_type": "code",
   "execution_count": null,
   "id": "7cd35905",
   "metadata": {},
   "outputs": [],
   "source": []
  }
 ],
 "metadata": {
  "kernelspec": {
   "display_name": "Python 3 (ipykernel)",
   "language": "python",
   "name": "python3"
  },
  "language_info": {
   "codemirror_mode": {
    "name": "ipython",
    "version": 3
   },
   "file_extension": ".py",
   "mimetype": "text/x-python",
   "name": "python",
   "nbconvert_exporter": "python",
   "pygments_lexer": "ipython3",
   "version": "3.7.10"
  }
 },
 "nbformat": 4,
 "nbformat_minor": 5
}

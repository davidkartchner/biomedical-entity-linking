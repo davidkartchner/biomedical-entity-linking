{
 "cells": [
  {
   "cell_type": "code",
   "execution_count": 1,
   "id": "d783ba30",
   "metadata": {},
   "outputs": [],
   "source": [
    "import json\n",
    "import os\n",
    "import pickle\n",
    "import torch\n",
    "import numpy as np"
   ]
  },
  {
   "cell_type": "code",
   "execution_count": 2,
   "id": "7e6f150d",
   "metadata": {},
   "outputs": [],
   "source": [
    "# Read JSON\n",
    "def read_json(fname):\n",
    "    with open(fname, \"r\") as handle:\n",
    "        res = handle.read()\n",
    "        obj = json.loads(res)\n",
    "    return obj"
   ]
  },
  {
   "cell_type": "code",
   "execution_count": 3,
   "id": "7f4f1719",
   "metadata": {},
   "outputs": [],
   "source": [
    "# Read pickle\n",
    "def read_pkl(fname):\n",
    "    with open(fname, 'rb') as handle:\n",
    "        obj_pkl = pickle.load(handle)\n",
    "    return obj_pkl"
   ]
  },
  {
   "cell_type": "code",
   "execution_count": 4,
   "id": "3b1b5c36",
   "metadata": {},
   "outputs": [],
   "source": [
    "# Read torch \n",
    "def read_torch(fname):\n",
    "    obj = torch.load(fname)\n",
    "    return obj"
   ]
  },
  {
   "cell_type": "code",
   "execution_count": 5,
   "id": "cf5f9b55",
   "metadata": {},
   "outputs": [],
   "source": [
    "test_data = read_pkl('../data/zeshel/test_processed_data.pickle')"
   ]
  },
  {
   "cell_type": "code",
   "execution_count": 8,
   "id": "f438e266",
   "metadata": {},
   "outputs": [],
   "source": [
    "from collections import defaultdict\n",
    "menlabel = defaultdict(set)\n",
    "for t in test_data:\n",
    "    menlabel[t['mention_name']].add(t['label_idxs'][0])"
   ]
  },
  {
   "cell_type": "code",
   "execution_count": 10,
   "id": "0e0a20e8",
   "metadata": {},
   "outputs": [],
   "source": [
    "ambig_list = []\n",
    "for m in menlabel:\n",
    "    if len(menlabel[m]) >= 10:\n",
    "        ambig_list.append(m)"
   ]
  },
  {
   "cell_type": "code",
   "execution_count": 13,
   "id": "43c6b6c8",
   "metadata": {},
   "outputs": [
    {
     "data": {
      "text/plain": [
       "['the previous episode',\n",
       " 'his father',\n",
       " 'the previous Ride',\n",
       " 'Duel continues from previous episode .',\n",
       " 'the next chapter',\n",
       " 'the next episode',\n",
       " 'the next Rank',\n",
       " 'Duel continues in the next chapter . . .',\n",
       " 'a Duel',\n",
       " 'father',\n",
       " 'the previous Rank',\n",
       " 'ship',\n",
       " 'the next Scale',\n",
       " 'the previous chapter',\n",
       " 'Duel concludes next episode .',\n",
       " 'the previous Scale',\n",
       " 'planet',\n",
       " 'the next Ride',\n",
       " 'his ship',\n",
       " 'Duel continues next episode .',\n",
       " 'Duel continued from previous episode .',\n",
       " 'shuttlecraft',\n",
       " 'TO BE CONTINUED . . .',\n",
       " 'mother']"
      ]
     },
     "execution_count": 13,
     "metadata": {},
     "output_type": "execute_result"
    }
   ],
   "source": [
    "assert len(ambig_list) == len(set(ambig_list))\n",
    "ambig_list"
   ]
  },
  {
   "cell_type": "code",
   "execution_count": 14,
   "id": "136cbe72",
   "metadata": {},
   "outputs": [
    {
     "name": "stdout",
     "output_type": "stream",
     "text": [
      "Total ambiguous mentions in test: 655\n"
     ]
    }
   ],
   "source": [
    "ambig_count = 0\n",
    "for o in test_data:\n",
    "    if o['mention_name'] in ambig_list:\n",
    "        ambig_count += 1\n",
    "print(f\"Total ambiguous mentions in test: {ambig_count}\")"
   ]
  },
  {
   "cell_type": "code",
   "execution_count": 15,
   "id": "b259a610",
   "metadata": {},
   "outputs": [],
   "source": [
    "results = {}\n",
    "results['arbo'] = read_json('../data/zeshel/results/cross_arbo.json')\n",
    "results['1rand'] = read_json('../data/zeshel/results/cross_1rand.json')\n",
    "results['1nn'] = read_json('../data/zeshel/results/cross_1nn.json')\n",
    "results['knn'] = read_json('../data/zeshel/results/cross_knn.json')\n",
    "results['in_batch'] = read_json('../data/zeshel/results/cross_in_batch.json')"
   ]
  },
  {
   "cell_type": "code",
   "execution_count": 16,
   "id": "5b50d2e0",
   "metadata": {},
   "outputs": [
    {
     "data": {
      "text/plain": [
       "{'arbo': 14.81, '1rand': 19.54, '1nn': 17.25, 'knn': 16.34, 'in_batch': 20.61}"
      ]
     },
     "execution_count": 16,
     "metadata": {},
     "output_type": "execute_result"
    }
   ],
   "source": [
    "acc = {}\n",
    "\n",
    "for mode in results:    \n",
    "    fail = succ = 0\n",
    "    for o in results[mode]['failure']:\n",
    "        if o['mention_name'] in ambig_list:\n",
    "            fail += 1\n",
    "    for o in results[mode]['success']:\n",
    "        if o['mention_name'] in ambig_list:\n",
    "            succ += 1\n",
    "    acc[mode] = round((succ / ambig_count)*100, 2)\n",
    "acc"
   ]
  },
  {
   "cell_type": "code",
   "execution_count": 25,
   "id": "d9c9309e",
   "metadata": {},
   "outputs": [
    {
     "name": "stdout",
     "output_type": "stream",
     "text": [
      "bi_1nn.json                \u001b[31mcross_in_batch.json\u001b[m\u001b[m\r\n",
      "bi_1rand.json              \u001b[31mcross_knn.json\u001b[m\u001b[m\r\n",
      "\u001b[31mbi_arbo.json\u001b[m\u001b[m               oracle_cross_1nn.json\r\n",
      "\u001b[31mbi_in_batch.json\u001b[m\u001b[m           oracle_cross_1rand.json\r\n",
      "\u001b[31mbi_knn.json\u001b[m\u001b[m                oracle_cross_arbo.json\r\n",
      "\u001b[31mcross_1nn.json\u001b[m\u001b[m             oracle_cross_in_batch.json\r\n",
      "\u001b[31mcross_1rand.json\u001b[m\u001b[m           oracle_cross_knn.json\r\n",
      "\u001b[31mcross_arbo.json\u001b[m\u001b[m\r\n"
     ]
    }
   ],
   "source": [
    "!ls ../data/zeshel/results"
   ]
  },
  {
   "cell_type": "code",
   "execution_count": 26,
   "id": "8fe831b4",
   "metadata": {},
   "outputs": [],
   "source": [
    "# Oracle results\n",
    "oresults = {}\n",
    "oresults['arbo'] = read_json('../data/zeshel/results/oracle_cross_arbo.json')\n",
    "oresults['1rand'] = read_json('../data/zeshel/results/oracle_cross_1rand.json')\n",
    "oresults['1nn'] = read_json('../data/zeshel/results/oracle_cross_1nn.json')\n",
    "oresults['knn'] = read_json('../data/zeshel/results/oracle_cross_knn.json')\n",
    "oresults['in_batch'] = read_json('../data/zeshel/results/oracle_cross_in_batch.json')"
   ]
  },
  {
   "cell_type": "code",
   "execution_count": 27,
   "id": "3c4409b6",
   "metadata": {},
   "outputs": [
    {
     "data": {
      "text/plain": [
       "{'arbo': 16.49, '1rand': 25.04, '1nn': 22.29, 'knn': 19.08, 'in_batch': 22.44}"
      ]
     },
     "execution_count": 27,
     "metadata": {},
     "output_type": "execute_result"
    }
   ],
   "source": [
    "oacc = {}\n",
    "\n",
    "for mode in oresults:    \n",
    "    fail = succ = 0\n",
    "    for o in oresults[mode]['failure']:\n",
    "        if o['mention_name'] in ambig_list:\n",
    "            fail += 1\n",
    "    for o in oresults[mode]['success']:\n",
    "        if o['mention_name'] in ambig_list:\n",
    "            succ += 1\n",
    "    oacc[mode] = round((succ / ambig_count)*100, 2)\n",
    "oacc"
   ]
  },
  {
   "cell_type": "code",
   "execution_count": 6,
   "id": "2dcc1168",
   "metadata": {},
   "outputs": [],
   "source": [
    "edict = read_pkl(\"../data/zeshel/dictionary.pickle\")"
   ]
  },
  {
   "cell_type": "code",
   "execution_count": 7,
   "id": "5b2547a5",
   "metadata": {},
   "outputs": [
    {
     "data": {
      "text/plain": [
       "492321"
      ]
     },
     "execution_count": 7,
     "metadata": {},
     "output_type": "execute_result"
    }
   ],
   "source": [
    "len(edict)"
   ]
  },
  {
   "cell_type": "code",
   "execution_count": null,
   "id": "5dbc40cb",
   "metadata": {},
   "outputs": [],
   "source": []
  }
 ],
 "metadata": {
  "kernelspec": {
   "display_name": "Python 3 (ipykernel)",
   "language": "python",
   "name": "python3"
  },
  "language_info": {
   "codemirror_mode": {
    "name": "ipython",
    "version": 3
   },
   "file_extension": ".py",
   "mimetype": "text/x-python",
   "name": "python",
   "nbconvert_exporter": "python",
   "pygments_lexer": "ipython3",
   "version": "3.7.10"
  }
 },
 "nbformat": 4,
 "nbformat_minor": 5
}

{
 "cells": [
  {
   "cell_type": "code",
   "execution_count": 1,
   "id": "1731c034",
   "metadata": {},
   "outputs": [],
   "source": [
    "import json\n",
    "import os\n",
    "import pickle\n",
    "import torch\n",
    "import numpy as np"
   ]
  },
  {
   "cell_type": "code",
   "execution_count": 2,
   "id": "6470b7c9",
   "metadata": {},
   "outputs": [],
   "source": [
    "# Read torch \n",
    "def read_torch(fname):\n",
    "    obj = torch.load(fname)\n",
    "    return obj"
   ]
  },
  {
   "cell_type": "code",
   "execution_count": 27,
   "id": "7a64e26b",
   "metadata": {},
   "outputs": [],
   "source": [
    "models = ['arbo', '1nn', '1rand', 'knn', 'in_batch']\n",
    "cands = read_torch(f'data/zeshel/top64_cands/{models[0]}.t7')\n",
    "cands1 = read_torch(f'data/zeshel/top64_cands/{models[1]}.t7')"
   ]
  },
  {
   "cell_type": "code",
   "execution_count": 24,
   "id": "5c8512e3",
   "metadata": {},
   "outputs": [],
   "source": [
    "dataset = 'zeshel'\n",
    "l = np.array([False]*(10000 if dataset == 'zeshel' else 39038))\n",
    "for model in models:\n",
    "    cands = read_torch(f'data/{dataset}/top64_cands/{model}.t7')\n",
    "    labels = np.array(cands['labels'])\n",
    "    l = l | (labels != -1)"
   ]
  },
  {
   "cell_type": "code",
   "execution_count": 22,
   "id": "810237b6",
   "metadata": {},
   "outputs": [
    {
     "data": {
      "text/plain": [
       "9110"
      ]
     },
     "execution_count": 22,
     "metadata": {},
     "output_type": "execute_result"
    }
   ],
   "source": [
    "# Zeshel\n",
    "sum(l)"
   ]
  },
  {
   "cell_type": "code",
   "execution_count": 25,
   "id": "47f7f7cd",
   "metadata": {},
   "outputs": [
    {
     "data": {
      "text/plain": [
       "38065"
      ]
     },
     "execution_count": 25,
     "metadata": {},
     "output_type": "execute_result"
    }
   ],
   "source": [
    "# MedMentions\n",
    "sum(l)"
   ]
  },
  {
   "cell_type": "code",
   "execution_count": 64,
   "id": "18cec426",
   "metadata": {},
   "outputs": [],
   "source": [
    "dataset = 'medmentions'\n",
    "data_len = 10000 if dataset == 'zeshel' else 39038\n",
    "cands = {}\n",
    "final_labels = [-1]*data_len\n",
    "final_cands = {}\n",
    "for model in models:\n",
    "    cands[model] = read_torch(f'data/{dataset}/top64_cands/{model}.t7')\n",
    "for i in range(len(cands[models[0]]['labels'])):\n",
    "    correct_cand = None\n",
    "    found = False\n",
    "    cands_union = set()\n",
    "    # Find correct candidate\n",
    "    for model in cands:\n",
    "        if not found and cands[model]['labels'][i] != -1:\n",
    "            correct_cand = cands[model]['candidates'][i][cands[model]['labels'][i]]\n",
    "            found = True\n",
    "        cands_union = set().union(cands_union, cands[model]['candidates'][i])\n",
    "    final_cands[i] = list(cands_union)\n",
    "    if correct_cand is not None:\n",
    "        final_labels[i] = final_cands[i].index(correct_cand)\n",
    "\n",
    "# Find max. cand length\n",
    "maxlen = -1\n",
    "for i in range(len(final_cands)):\n",
    "    maxlen = max(maxlen, len(final_cands[i]))\n",
    "maxlen\n",
    "\n",
    "# Normalize length of all candidates to be able to convert to numpy matrix\n",
    "for i in final_cands:\n",
    "    add_dummies = maxlen - len(final_cands[i])\n",
    "    if add_dummies > 0:\n",
    "        dummy_label_idx = final_labels[i] - 1\n",
    "        if dummy_label_idx < 0:\n",
    "            dummy_label_idx = final_labels[i] + 1\n",
    "        assert 0 <= dummy_label_idx < len(final_cands[i])\n",
    "        dummy_label = final_cands[i][dummy_label_idx]\n",
    "        final_cands[i] += [dummy_label]*add_dummies\n",
    "    assert len(final_cands[i]) == maxlen\n",
    "        \n",
    "torch.save({\n",
    "    'mode': 'union',\n",
    "    'candidates': final_cands,\n",
    "    'labels': final_labels\n",
    "}, f'data/{dataset}/top64_cands/union.t7')"
   ]
  },
  {
   "cell_type": "code",
   "execution_count": null,
   "id": "618619db",
   "metadata": {},
   "outputs": [],
   "source": []
  }
 ],
 "metadata": {
  "kernelspec": {
   "display_name": "Python 3 (ipykernel)",
   "language": "python",
   "name": "python3"
  },
  "language_info": {
   "codemirror_mode": {
    "name": "ipython",
    "version": 3
   },
   "file_extension": ".py",
   "mimetype": "text/x-python",
   "name": "python",
   "nbconvert_exporter": "python",
   "pygments_lexer": "ipython3",
   "version": "3.7.10"
  }
 },
 "nbformat": 4,
 "nbformat_minor": 5
}

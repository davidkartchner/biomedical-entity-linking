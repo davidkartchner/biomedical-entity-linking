{
 "cells": [
  {
   "cell_type": "code",
   "execution_count": 1,
   "metadata": {},
   "outputs": [
    {
     "name": "stderr",
     "output_type": "stream",
     "text": [
      "/home/slohiya3/.conda/envs/bioel/lib/python3.9/site-packages/tqdm/auto.py:21: TqdmWarning: IProgress not found. Please update jupyter and ipywidgets. See https://ipywidgets.readthedocs.io/en/stable/user_install.html\n",
      "  from .autonotebook import tqdm as notebook_tqdm\n"
     ]
    }
   ],
   "source": [
    "import torch\n",
    "import torch.nn as nn\n",
    "from transformers import AutoConfig, AutoTokenizer, AutoModel\n",
    "from bioel.models.krissbert.data.utils import BigBioDataset, generate_vectors\n",
    "\n",
    "class Krissbert(nn.Module):\n",
    "    def __init__(self, model_name_or_path=\"microsoft/BiomedNLP-KRISSBERT-PubMed-UMLS-EL\"):\n",
    "        super().__init__()\n",
    "        self.config = AutoConfig.from_pretrained(model_name_or_path)\n",
    "        self.tokenizer = AutoTokenizer.from_pretrained(model_name_or_path, use_fast=True)\n",
    "        self.encoder = AutoModel.from_pretrained(model_name_or_path, config=self.config)\n",
    "        self.prototypes = None\n",
    "        self.name_to_cuis = None\n",
    "\n",
    "    def forward(self, input_ids, attention_mask):\n",
    "        return self.encoder(input_ids=input_ids, attention_mask=attention_mask)\n",
    "\n",
    "    def generate_prototypes(self, dataset, batch_size=256, max_length=64, logger=None):\n",
    "        self.encoder.eval()\n",
    "        data = generate_vectors(self.encoder, self.tokenizer, dataset, batch_size, max_length, is_prototype=True)\n",
    "        self.prototypes = data\n",
    "        self.name_to_cuis = dataset.name_to_cuis\n",
    "        if logger:\n",
    "            logger.info(\"Total data processed %d. Index built.\", len(data))\n",
    "        else:\n",
    "            print(\"Total data processed %d. Index built.\" % len(data))"
   ]
  },
  {
   "cell_type": "code",
   "execution_count": null,
   "metadata": {},
   "outputs": [],
   "source": [
    "Now look at "
   ]
  }
 ],
 "metadata": {
  "kernelspec": {
   "display_name": "bioel",
   "language": "python",
   "name": "python3"
  },
  "language_info": {
   "codemirror_mode": {
    "name": "ipython",
    "version": 3
   },
   "file_extension": ".py",
   "mimetype": "text/x-python",
   "name": "python",
   "nbconvert_exporter": "python",
   "pygments_lexer": "ipython3",
   "version": "3.9.19"
  }
 },
 "nbformat": 4,
 "nbformat_minor": 2
}

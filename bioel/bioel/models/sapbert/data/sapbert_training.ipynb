{
 "cells": [
  {
   "cell_type": "code",
   "execution_count": 1,
   "metadata": {},
   "outputs": [
    {
     "name": "stderr",
     "output_type": "stream",
     "text": [
      "/home/pbathala3/.conda/envs/bioel/lib/python3.9/site-packages/tqdm/auto.py:21: TqdmWarning: IProgress not found. Please update jupyter and ipywidgets. See https://ipywidgets.readthedocs.io/en/stable/user_install.html\n",
      "  from .autonotebook import tqdm as notebook_tqdm\n"
     ]
    }
   ],
   "source": [
    "import logging\n",
    "import sys\n",
    "import ujson\n",
    "\n",
    "\n",
    "\n",
    "from bioel.models.sapbert.utils import (\n",
    "    sapbert_predict,\n",
    "    parse_args_bigbio,\n",
    "    init_logging,\n",
    "    load_dictionary,\n",
    "    make_unique_model_savepath,\n",
    ")\n",
    "from torch.utils.data import DataLoader\n",
    "\n",
    "\n",
    "import wandb\n",
    "\n",
    "from bioel.models.sapbert.data.utils import SapBertBigBioDataset\n",
    "from bioel.ontology import BiomedicalOntology\n",
    "from bioel.models.sapbert.model.model_wrapper import Model_Wrapper\n",
    "\n"
   ]
  },
  {
   "cell_type": "code",
   "execution_count": null,
   "metadata": {},
   "outputs": [],
   "source": [
    "\n",
    "LOGGER = logging.getLogger()\n",
    "\n",
    "def sapbert_collate_fn(batch):\n",
    "    mentions = [x[\"text\"] for x in batch]\n",
    "    # labels = [x[\"cuis\"] for x in batch]\n",
    "    labels = [x[\"db_ids\"] for x in batch]\n",
    "    metadata = batch\n",
    "\n",
    "    return mentions, labels, metadata\n",
    "\n",
    "def main(args):\n",
    "\n",
    "    # Get the Alias from the Big Bio dataset into a dictionary\n",
    "    eval_dictionary = load_dictionary(dictionary_path=args.dictionary_path)\n",
    "    \n",
    "    if args.abbreviations_path is None:\n",
    "        resolve_abbreviations = False\n",
    "    else:\n",
    "        resolve_abbreviations = True\n",
    "\n",
    "    \n",
    "\n",
    "    # Load data\n",
    "    data = SapBertBigBioDataset(\n",
    "        args.dataset_name,\n",
    "        splits_to_include=[args.split],\n",
    "        path_to_abbreviation_dict=args.abbreviations_path,\n",
    "        resolve_abbreviations=resolve_abbreviations,\n",
    "    )\n",
    "    for i, record in enumerate(data):\n",
    "        print(record)\n",
    "        if i > 20:\n",
    "            break\n",
    "    loader = DataLoader(data, collate_fn=sapbert_collate_fn, batch_size=args.batch_size)\n",
    "\n",
    "    # Load Model\n",
    "    model_wrapper = Model_Wrapper().load_model(\n",
    "        path=args.model_dir,\n",
    "        max_length=args.max_length,\n",
    "        use_cuda=args.use_cuda,\n",
    "    )\n",
    "\n",
    "    # Get unique save path\n",
    "    preds_save_path = make_unique_model_savepath(\n",
    "        dir=args.output_dir,\n",
    "        model=\"sapbert\",\n",
    "        dataset=args.dataset_name,\n",
    "        file_ext=\"json\",\n",
    "    )\n",
    "\n",
    "    dict_cache_filepath = args.dict_cache_path\n",
    "    LOGGER.info(f\"Dict CACHE Path: {dict_cache_filepath}\")\n",
    "    LOGGER.info(f\"Debugging mode? {args.debug}\")\n",
    "\n",
    "    results = sapbert_predict(\n",
    "        model_wrapper=model_wrapper,\n",
    "        eval_dictionary=eval_dictionary,\n",
    "        dataloader=loader,\n",
    "        batch_size=args.batch_size,\n",
    "        topk=args.topk,\n",
    "        dict_cache_filepath=dict_cache_filepath,\n",
    "        debug=args.debug,\n",
    "        resolve_abbreviations=resolve_abbreviations,\n",
    "    )\n",
    "\n",
    "    LOGGER.info(f\"Saving results to {preds_save_path}\")\n",
    "    with open(preds_save_path, \"w\") as f:\n",
    "        f.write(ujson.dumps(results, indent=2))\n",
    "\n",
    "\n",
    "if __name__ == \"__main__\":\n",
    "    init_logging()\n",
    "    args = parse_args_bigbio()\n",
    "\n",
    "    main(args)"
   ]
  },
  {
   "cell_type": "code",
   "execution_count": 2,
   "metadata": {},
   "outputs": [
    {
     "name": "stderr",
     "output_type": "stream",
     "text": [
      "Map: 100%|██████████| 592/592 [00:00<00:00, 2173.60 examples/s]\n",
      "Map: 100%|██████████| 100/100 [00:00<00:00, 1871.98 examples/s]\n",
      "Map: 100%|██████████| 100/100 [00:00<00:00, 2061.52 examples/s]"
     ]
    },
    {
     "name": "stdout",
     "output_type": "stream",
     "text": [
      "{'document_id': '9288106', 'offsets': [[40, 61]], 'text': 'ataxia-telangiectasia', 'type': ['Modifier'], 'db_ids': ['MESH:D001260'], 'split': 'test', 'deabbreviated_text': 'ataxia-telangiectasia', 'mention_id': '9288106.1'}\n",
      "{'document_id': '9288106', 'offsets': [[72, 97]], 'text': 'sporadic T-cell leukaemia', 'type': ['SpecificDisease'], 'db_ids': ['MESH:D015458'], 'split': 'test', 'deabbreviated_text': 'sporadic T-cell leukaemia', 'mention_id': '9288106.2'}\n",
      "{'document_id': '9288106', 'offsets': [[99, 120]], 'text': 'Ataxia-telangiectasia', 'type': ['SpecificDisease'], 'db_ids': ['MESH:D001260'], 'split': 'test', 'deabbreviated_text': 'Ataxia-telangiectasia', 'mention_id': '9288106.3'}\n",
      "{'document_id': '9288106', 'offsets': [[122, 125]], 'text': 'A-T', 'type': ['SpecificDisease'], 'db_ids': ['MESH:D001260'], 'split': 'test', 'deabbreviated_text': 'Ataxia-telangiectasia', 'mention_id': '9288106.4'}\n",
      "{'document_id': '9288106', 'offsets': [[132, 163]], 'text': 'recessive multi-system disorder', 'type': ['DiseaseClass'], 'db_ids': ['MESH:D030342'], 'split': 'test', 'deabbreviated_text': 'recessive multi-system disorder', 'mention_id': '9288106.5'}\n",
      "{'document_id': '9288106', 'offsets': [[235, 241]], 'text': 'cancer', 'type': ['DiseaseClass'], 'db_ids': ['MESH:D009369'], 'split': 'test', 'deabbreviated_text': 'cancer', 'mention_id': '9288106.6'}\n",
      "{'document_id': '9288106', 'offsets': [[254, 273]], 'text': 'lymphoid neoplasias', 'type': ['DiseaseClass'], 'db_ids': ['MESH:D008223'], 'split': 'test', 'deabbreviated_text': 'lymphoid neoplasias', 'mention_id': '9288106.7'}\n",
      "{'document_id': '9288106', 'offsets': [[304, 307]], 'text': 'A-T', 'type': ['Modifier'], 'db_ids': ['MESH:D001260'], 'split': 'test', 'deabbreviated_text': 'Ataxia-telangiectasia', 'mention_id': '9288106.8'}\n",
      "{'document_id': '9288106', 'offsets': [[389, 395]], 'text': 'tumour', 'type': ['Modifier'], 'db_ids': ['MESH:D009369'], 'split': 'test', 'deabbreviated_text': 'tumour', 'mention_id': '9288106.9'}\n",
      "{'document_id': '9288106', 'offsets': [[419, 459]], 'text': 'sporadic T-cell prolymphocytic leukaemia', 'type': ['SpecificDisease'], 'db_ids': ['MESH:D015461'], 'split': 'test', 'deabbreviated_text': 'sporadic T-cell prolymphocytic leukaemia', 'mention_id': '9288106.10'}\n",
      "{'document_id': '9288106', 'offsets': [[461, 466]], 'text': 'T-PLL', 'type': ['SpecificDisease'], 'db_ids': ['MESH:D015461'], 'split': 'test', 'deabbreviated_text': 'T-cell prolymphocytic leukaemia', 'mention_id': '9288106.11'}\n",
      "{'document_id': '9288106', 'offsets': [[476, 493]], 'text': 'clonal malignancy', 'type': ['DiseaseClass'], 'db_ids': ['MESH:D007945'], 'split': 'test', 'deabbreviated_text': 'clonal malignancy', 'mention_id': '9288106.12'}\n",
      "{'document_id': '9288106', 'offsets': [[517, 540]], 'text': 'mature T-cell leukaemia', 'type': ['SpecificDisease'], 'db_ids': ['MESH:D015458'], 'split': 'test', 'deabbreviated_text': 'mature T-cell leukaemia', 'mention_id': '9288106.13'}\n",
      "{'document_id': '9288106', 'offsets': [[549, 552]], 'text': 'A-T', 'type': ['SpecificDisease'], 'db_ids': ['MESH:D001260'], 'split': 'test', 'deabbreviated_text': 'Ataxia-telangiectasia', 'mention_id': '9288106.14'}\n",
      "{'document_id': '9288106', 'offsets': [[606, 611]], 'text': 'T-PLL', 'type': ['SpecificDisease'], 'db_ids': ['MESH:D015461'], 'split': 'test', 'deabbreviated_text': 'T-cell prolymphocytic leukaemia', 'mention_id': '9288106.15'}\n",
      "{'document_id': '9288106', 'offsets': [[663, 666]], 'text': 'A-T', 'type': ['SpecificDisease'], 'db_ids': ['MESH:D001260'], 'split': 'test', 'deabbreviated_text': 'Ataxia-telangiectasia', 'mention_id': '9288106.16'}\n",
      "{'document_id': '9288106', 'offsets': [[713, 722]], 'text': 'leukaemia', 'type': ['DiseaseClass'], 'db_ids': ['MESH:D007938'], 'split': 'test', 'deabbreviated_text': 'leukaemia', 'mention_id': '9288106.17'}\n",
      "{'document_id': '9288106', 'offsets': [[1030, 1035]], 'text': 'T-PLL', 'type': ['SpecificDisease'], 'db_ids': ['MESH:D015461'], 'split': 'test', 'deabbreviated_text': 'T-cell prolymphocytic leukaemia', 'mention_id': '9288106.18'}\n",
      "{'document_id': '9288106', 'offsets': [[1070, 1073]], 'text': 'A-T', 'type': ['Modifier'], 'db_ids': ['MESH:D001260'], 'split': 'test', 'deabbreviated_text': 'Ataxia-telangiectasia', 'mention_id': '9288106.19'}\n",
      "{'document_id': '9288106', 'offsets': [[1160, 1166]], 'text': 'tumour', 'type': ['Modifier'], 'db_ids': ['MESH:D009369'], 'split': 'test', 'deabbreviated_text': 'tumour', 'mention_id': '9288106.20'}\n",
      "{'document_id': '9288106', 'offsets': [[1212, 1221]], 'text': 'leukaemia', 'type': ['DiseaseClass'], 'db_ids': ['MESH:D007938'], 'split': 'test', 'deabbreviated_text': 'leukaemia', 'mention_id': '9288106.21'}\n",
      "{'document_id': '9288106', 'offsets': [[1279, 1285]], 'text': 'tumour', 'type': ['Modifier'], 'db_ids': ['MESH:D009369'], 'split': 'test', 'deabbreviated_text': 'tumour', 'mention_id': '9288106.22'}\n"
     ]
    },
    {
     "name": "stderr",
     "output_type": "stream",
     "text": [
      "\n"
     ]
    }
   ],
   "source": [
    "data = SapBertBigBioDataset(\n",
    "        \"ncbi_disease\",\n",
    "        splits_to_include=[\"test\"],\n",
    "        path_to_abbreviation_dict=\"/home/pbathala3/entity_linking/biomedical-entity-linking/bioel/bioel/utils/solve_abbreviation/abbreviations.json\",\n",
    "        resolve_abbreviations=True,\n",
    "    )\n",
    "for i, record in enumerate(data):\n",
    "    print(record)\n",
    "    if i > 20:\n",
    "        break"
   ]
  },
  {
   "cell_type": "code",
   "execution_count": null,
   "metadata": {},
   "outputs": [],
   "source": []
  }
 ],
 "metadata": {
  "kernelspec": {
   "display_name": "nlp_hier",
   "language": "python",
   "name": "python3"
  },
  "language_info": {
   "codemirror_mode": {
    "name": "ipython",
    "version": 3
   },
   "file_extension": ".py",
   "mimetype": "text/x-python",
   "name": "python",
   "nbconvert_exporter": "python",
   "pygments_lexer": "ipython3",
   "version": "3.9.19"
  }
 },
 "nbformat": 4,
 "nbformat_minor": 2
}

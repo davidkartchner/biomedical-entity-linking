{
 "cells": [
  {
   "cell_type": "code",
   "execution_count": 1,
   "metadata": {},
   "outputs": [],
   "source": [
    "%load_ext autoreload\n",
    "%autoreload 2\n",
    "\n",
    "import sys\n",
    "import os\n",
    "import ujson\n",
    "import pandas as pd\n",
    "import numpy as np\n",
    "import warnings\n",
    "warnings.filterwarnings(\"ignore\")\n",
    "\n",
    "\n",
    "\n",
    "from tqdm import tqdm\n",
    "from collections import defaultdict, Counter\n",
    "from sklearn.model_selection import train_test_split\n",
    "from datasets import load_dataset\n",
    "\n",
    "from bigbio.dataloader import BigBioConfigHelpers\n",
    "\n",
    "sys.path.append('..')\n",
    "from bigbio_utils import dataset_to_df, DATASET_NAMES, CUIS_TO_EXCLUDE, CUIS_TO_REMAP, VALIDATION_DOCUMENT_IDS, load_dataset_df\n",
    "\n",
    "\n",
    "from bioel.ontology import BiomedicalOntology\n",
    "\n",
    "\n",
    "conhelps = BigBioConfigHelpers()\n",
    "\n",
    "ner_helpers = conhelps.filtered(\n",
    "    lambda x:\n",
    "        x.is_bigbio_schema\n",
    "        and not x.is_local\n",
    "        and \"NAMED_ENTITY_DISAMBIGUATION\" in x.tasks\n",
    "        and not x.is_large\n",
    ")\n",
    "\n",
    "\n",
    "# Filter out all warnings\n"
   ]
  },
  {
   "cell_type": "code",
   "execution_count": 4,
   "metadata": {},
   "outputs": [
    {
     "data": {
      "application/json": {
       "ascii": false,
       "bar_format": null,
       "colour": null,
       "elapsed": 0.03160429000854492,
       "initial": 0,
       "n": 0,
       "ncols": null,
       "nrows": null,
       "postfix": null,
       "prefix": "Downloading data",
       "rate": null,
       "total": 41635908,
       "unit": "B",
       "unit_divisor": 1000,
       "unit_scale": true
      },
      "application/vnd.jupyter.widget-view+json": {
       "model_id": "8a768846d3be4b4c859323a235c7573f",
       "version_major": 2,
       "version_minor": 0
      },
      "text/plain": [
       "Downloading data:   0%|          | 0.00/41.6M [00:00<?, ?B/s]"
      ]
     },
     "metadata": {},
     "output_type": "display_data"
    },
    {
     "data": {
      "application/json": {
       "ascii": false,
       "bar_format": null,
       "colour": null,
       "elapsed": 0.014857292175292969,
       "initial": 0,
       "n": 0,
       "ncols": null,
       "nrows": null,
       "postfix": null,
       "prefix": "Generating train split",
       "rate": null,
       "total": 0,
       "unit": " examples",
       "unit_divisor": 1000,
       "unit_scale": false
      },
      "application/vnd.jupyter.widget-view+json": {
       "model_id": "fe9f0ee03ad74541b9eda58ec6be49a9",
       "version_major": 2,
       "version_minor": 0
      },
      "text/plain": [
       "Generating train split: 0 examples [00:00, ? examples/s]"
      ]
     },
     "metadata": {},
     "output_type": "display_data"
    },
    {
     "data": {
      "application/json": {
       "ascii": false,
       "bar_format": null,
       "colour": null,
       "elapsed": 0.013792037963867188,
       "initial": 0,
       "n": 0,
       "ncols": null,
       "nrows": null,
       "postfix": null,
       "prefix": "Generating test split",
       "rate": null,
       "total": 0,
       "unit": " examples",
       "unit_divisor": 1000,
       "unit_scale": false
      },
      "application/vnd.jupyter.widget-view+json": {
       "model_id": "7799c2b6eb1e4f1ba93e9f48da4daf83",
       "version_major": 2,
       "version_minor": 0
      },
      "text/plain": [
       "Generating test split: 0 examples [00:00, ? examples/s]"
      ]
     },
     "metadata": {},
     "output_type": "display_data"
    },
    {
     "data": {
      "application/json": {
       "ascii": false,
       "bar_format": null,
       "colour": null,
       "elapsed": 0.013746261596679688,
       "initial": 0,
       "n": 0,
       "ncols": null,
       "nrows": null,
       "postfix": null,
       "prefix": "Generating validation split",
       "rate": null,
       "total": 0,
       "unit": " examples",
       "unit_divisor": 1000,
       "unit_scale": false
      },
      "application/vnd.jupyter.widget-view+json": {
       "model_id": "968a8728a1eb412f8af628b09173c88b",
       "version_major": 2,
       "version_minor": 0
      },
      "text/plain": [
       "Generating validation split: 0 examples [00:00, ? examples/s]"
      ]
     },
     "metadata": {},
     "output_type": "display_data"
    }
   ],
   "source": [
    "data = load_dataset(\"../../biomedical/bigbio/hub/hub_repos/sourcedata_nlp/sourcedata_nlp.py\", name=\"sourcedata_nlp_bigbio_kb\")\n",
    "\n"
   ]
  },
  {
   "cell_type": "code",
   "execution_count": 8,
   "metadata": {},
   "outputs": [],
   "source": [
    "tax_counts = defaultdict(set)\n",
    "db_counts = defaultdict(int)\n",
    "\n",
    "for split in ['train','validation','test']:\n",
    "    for doc in data[split]:\n",
    "        doi = doc['document_id']\n",
    "        for e in doc['entities']:\n",
    "            \n",
    "            for x in e['normalized']:\n",
    "                db_counts[x['db_name']] += 1\n",
    "                if e['type'] == 'ORGANISM':\n",
    "                    tax_counts[doi].add(x['db_id'])\n"
   ]
  },
  {
   "cell_type": "code",
   "execution_count": 9,
   "metadata": {},
   "outputs": [
    {
     "data": {
      "text/plain": [
       "defaultdict(int,\n",
       "            {'CL': 33276,\n",
       "             'CHEBI': 64173,\n",
       "             'BAO': 69170,\n",
       "             'OBI': 23226,\n",
       "             'PO': 1481,\n",
       "             'NCBI': 44898,\n",
       "             'GO': 39059,\n",
       "             'NCBIGENE': 100691,\n",
       "             'UNIPROT': 149643,\n",
       "             'PUBCHEM': 10942,\n",
       "             'UBERON': 34884,\n",
       "             'CVCL': 27244,\n",
       "             'MESH': 1618,\n",
       "             'DOID': 5213,\n",
       "             'RFAM': 175,\n",
       "             'CORUM': 51})"
      ]
     },
     "execution_count": 9,
     "metadata": {},
     "output_type": "execute_result"
    }
   ],
   "source": [
    "db_counts"
   ]
  },
  {
   "cell_type": "code",
   "execution_count": 20,
   "metadata": {},
   "outputs": [],
   "source": [
    "s = pd.Series({key:len(val) for key, val in tax_counts.items()})\n",
    "all_organisms = set.union(*tax_counts.values())\n",
    "len(all_organisms)\n",
    "org_list = list[all_organisms]"
   ]
  },
  {
   "cell_type": "code",
   "execution_count": null,
   "metadata": {},
   "outputs": [
    {
     "data": {
      "text/plain": [
       "452520"
      ]
     },
     "execution_count": 3,
     "metadata": {},
     "output_type": "execute_result"
    }
   ],
   "source": [
    "total_entities = 0\n",
    "for split in data:\n",
    "    for ent_list in data[split]['entities']:\n",
    "        total_entities += len(ent_list)\n",
    "\n",
    "total_entities"
   ]
  },
  {
   "cell_type": "code",
   "execution_count": null,
   "metadata": {},
   "outputs": [
    {
     "data": {
      "text/html": [
       "<div>\n",
       "<style scoped>\n",
       "    .dataframe tbody tr th:only-of-type {\n",
       "        vertical-align: middle;\n",
       "    }\n",
       "\n",
       "    .dataframe tbody tr th {\n",
       "        vertical-align: top;\n",
       "    }\n",
       "\n",
       "    .dataframe thead th {\n",
       "        text-align: right;\n",
       "    }\n",
       "</style>\n",
       "<table border=\"1\" class=\"dataframe\">\n",
       "  <thead>\n",
       "    <tr style=\"text-align: right;\">\n",
       "      <th></th>\n",
       "      <th>document_id</th>\n",
       "      <th>offsets</th>\n",
       "      <th>text</th>\n",
       "      <th>type</th>\n",
       "      <th>db_ids</th>\n",
       "      <th>split</th>\n",
       "      <th>mention_id</th>\n",
       "    </tr>\n",
       "  </thead>\n",
       "  <tbody>\n",
       "    <tr>\n",
       "      <th>0</th>\n",
       "      <td>10.1002/eji.200323730</td>\n",
       "      <td>[[1529, 1538]]</td>\n",
       "      <td>EBV‐B1.25</td>\n",
       "      <td>CELL_TYPE</td>\n",
       "      <td>[CL:0000236]</td>\n",
       "      <td>train</td>\n",
       "      <td>10.1002/eji.200323730.1</td>\n",
       "    </tr>\n",
       "    <tr>\n",
       "      <th>1</th>\n",
       "      <td>10.1002/eji.200323730</td>\n",
       "      <td>[[1666, 1675]]</td>\n",
       "      <td>EBV‐B1.11</td>\n",
       "      <td>CELL_TYPE</td>\n",
       "      <td>[CL:0000236]</td>\n",
       "      <td>train</td>\n",
       "      <td>10.1002/eji.200323730.2</td>\n",
       "    </tr>\n",
       "    <tr>\n",
       "      <th>2</th>\n",
       "      <td>10.1002/eji.200323730</td>\n",
       "      <td>[[1704, 1711]]</td>\n",
       "      <td>T cells</td>\n",
       "      <td>CELL_TYPE</td>\n",
       "      <td>[CL:0000084]</td>\n",
       "      <td>train</td>\n",
       "      <td>10.1002/eji.200323730.3</td>\n",
       "    </tr>\n",
       "    <tr>\n",
       "      <th>3</th>\n",
       "      <td>10.1002/eji.200323730</td>\n",
       "      <td>[[1820, 1829]]</td>\n",
       "      <td>EBV‐B1.11</td>\n",
       "      <td>CELL_TYPE</td>\n",
       "      <td>[CL:0000236]</td>\n",
       "      <td>train</td>\n",
       "      <td>10.1002/eji.200323730.4</td>\n",
       "    </tr>\n",
       "    <tr>\n",
       "      <th>4</th>\n",
       "      <td>10.1002/eji.200323730</td>\n",
       "      <td>[[1873, 1882]]</td>\n",
       "      <td>EBV‐B1.11</td>\n",
       "      <td>CELL_TYPE</td>\n",
       "      <td>[CL:0000236]</td>\n",
       "      <td>train</td>\n",
       "      <td>10.1002/eji.200323730.5</td>\n",
       "    </tr>\n",
       "    <tr>\n",
       "      <th>...</th>\n",
       "      <td>...</td>\n",
       "      <td>...</td>\n",
       "      <td>...</td>\n",
       "      <td>...</td>\n",
       "      <td>...</td>\n",
       "      <td>...</td>\n",
       "      <td>...</td>\n",
       "    </tr>\n",
       "    <tr>\n",
       "      <th>389614</th>\n",
       "      <td>10.15252/msb.202211475</td>\n",
       "      <td>[[4774, 4787]]</td>\n",
       "      <td>carbenicillin</td>\n",
       "      <td>SMALL_MOLECULE</td>\n",
       "      <td>[CHEBI:3393]</td>\n",
       "      <td>train</td>\n",
       "      <td>10.15252/msb.202211475.18</td>\n",
       "    </tr>\n",
       "    <tr>\n",
       "      <th>389615</th>\n",
       "      <td>10.4161/auto.29468</td>\n",
       "      <td>[[8664, 8667]]</td>\n",
       "      <td>LC3</td>\n",
       "      <td>GENEPROD</td>\n",
       "      <td>[UNIPROT:Q9CQV6, UNIPROT:Q91VR7]</td>\n",
       "      <td>train</td>\n",
       "      <td>10.4161/auto.29468.1</td>\n",
       "    </tr>\n",
       "    <tr>\n",
       "      <th>389616</th>\n",
       "      <td>10.4161/auto.29468</td>\n",
       "      <td>[[8861, 8865]]</td>\n",
       "      <td>Atg3</td>\n",
       "      <td>GENEPROD</td>\n",
       "      <td>[UNIPROT:Q9CPX6]</td>\n",
       "      <td>train</td>\n",
       "      <td>10.4161/auto.29468.2</td>\n",
       "    </tr>\n",
       "    <tr>\n",
       "      <th>389617</th>\n",
       "      <td>10.4161/auto.29468</td>\n",
       "      <td>[[9061, 9064]]</td>\n",
       "      <td>GL2</td>\n",
       "      <td>GENEPROD</td>\n",
       "      <td>[UNIPROT:P60521]</td>\n",
       "      <td>train</td>\n",
       "      <td>10.4161/auto.29468.3</td>\n",
       "    </tr>\n",
       "    <tr>\n",
       "      <th>389618</th>\n",
       "      <td>10.4161/auto.29468</td>\n",
       "      <td>[[9251, 9255]]</td>\n",
       "      <td>Atg3</td>\n",
       "      <td>GENEPROD</td>\n",
       "      <td>[UNIPROT:Q9CPX6]</td>\n",
       "      <td>train</td>\n",
       "      <td>10.4161/auto.29468.4</td>\n",
       "    </tr>\n",
       "  </tbody>\n",
       "</table>\n",
       "<p>389619 rows × 7 columns</p>\n",
       "</div>"
      ],
      "text/plain": [
       "                   document_id         offsets           text            type  \\\n",
       "0        10.1002/eji.200323730  [[1529, 1538]]      EBV‐B1.25       CELL_TYPE   \n",
       "1        10.1002/eji.200323730  [[1666, 1675]]      EBV‐B1.11       CELL_TYPE   \n",
       "2        10.1002/eji.200323730  [[1704, 1711]]        T cells       CELL_TYPE   \n",
       "3        10.1002/eji.200323730  [[1820, 1829]]      EBV‐B1.11       CELL_TYPE   \n",
       "4        10.1002/eji.200323730  [[1873, 1882]]      EBV‐B1.11       CELL_TYPE   \n",
       "...                        ...             ...            ...             ...   \n",
       "389614  10.15252/msb.202211475  [[4774, 4787]]  carbenicillin  SMALL_MOLECULE   \n",
       "389615      10.4161/auto.29468  [[8664, 8667]]            LC3        GENEPROD   \n",
       "389616      10.4161/auto.29468  [[8861, 8865]]           Atg3        GENEPROD   \n",
       "389617      10.4161/auto.29468  [[9061, 9064]]            GL2        GENEPROD   \n",
       "389618      10.4161/auto.29468  [[9251, 9255]]           Atg3        GENEPROD   \n",
       "\n",
       "                                  db_ids  split                 mention_id  \n",
       "0                           [CL:0000236]  train    10.1002/eji.200323730.1  \n",
       "1                           [CL:0000236]  train    10.1002/eji.200323730.2  \n",
       "2                           [CL:0000084]  train    10.1002/eji.200323730.3  \n",
       "3                           [CL:0000236]  train    10.1002/eji.200323730.4  \n",
       "4                           [CL:0000236]  train    10.1002/eji.200323730.5  \n",
       "...                                  ...    ...                        ...  \n",
       "389614                      [CHEBI:3393]  train  10.15252/msb.202211475.18  \n",
       "389615  [UNIPROT:Q9CQV6, UNIPROT:Q91VR7]  train       10.4161/auto.29468.1  \n",
       "389616                  [UNIPROT:Q9CPX6]  train       10.4161/auto.29468.2  \n",
       "389617                  [UNIPROT:P60521]  train       10.4161/auto.29468.3  \n",
       "389618                  [UNIPROT:Q9CPX6]  train       10.4161/auto.29468.4  \n",
       "\n",
       "[389619 rows x 7 columns]"
      ]
     },
     "execution_count": 3,
     "metadata": {},
     "output_type": "execute_result"
    }
   ],
   "source": [
    "df = load_dataset_df('sourcedata_nlp')\n",
    "df['type'] = df['type'].map(lambda x: x[0])\n",
    "df"
   ]
  },
  {
   "cell_type": "code",
   "execution_count": null,
   "metadata": {},
   "outputs": [
    {
     "data": {
      "text/plain": [
       "split\n",
       "train         307991\n",
       "validation     44162\n",
       "test           37466\n",
       "Name: count, dtype: int64"
      ]
     },
     "execution_count": 5,
     "metadata": {},
     "output_type": "execute_result"
    }
   ],
   "source": [
    "df.split.value_counts()"
   ]
  },
  {
   "cell_type": "code",
   "execution_count": null,
   "metadata": {},
   "outputs": [],
   "source": []
  },
  {
   "cell_type": "code",
   "execution_count": null,
   "metadata": {},
   "outputs": [],
   "source": [
    "entity_totals= df.groupby('split')['type'].value_counts()#.unstack('split')\n"
   ]
  },
  {
   "cell_type": "code",
   "execution_count": null,
   "metadata": {},
   "outputs": [
    {
     "data": {
      "text/html": [
       "<div>\n",
       "<style scoped>\n",
       "    .dataframe tbody tr th:only-of-type {\n",
       "        vertical-align: middle;\n",
       "    }\n",
       "\n",
       "    .dataframe tbody tr th {\n",
       "        vertical-align: top;\n",
       "    }\n",
       "\n",
       "    .dataframe thead th {\n",
       "        text-align: right;\n",
       "    }\n",
       "</style>\n",
       "<table border=\"1\" class=\"dataframe\">\n",
       "  <thead>\n",
       "    <tr style=\"text-align: right;\">\n",
       "      <th></th>\n",
       "      <th>total</th>\n",
       "    </tr>\n",
       "    <tr>\n",
       "      <th>type</th>\n",
       "      <th></th>\n",
       "    </tr>\n",
       "  </thead>\n",
       "  <tbody>\n",
       "    <tr>\n",
       "      <th>CELL_LINE</th>\n",
       "      <td>732</td>\n",
       "    </tr>\n",
       "    <tr>\n",
       "      <th>CELL_TYPE</th>\n",
       "      <td>450</td>\n",
       "    </tr>\n",
       "    <tr>\n",
       "      <th>DISEASE</th>\n",
       "      <td>489</td>\n",
       "    </tr>\n",
       "    <tr>\n",
       "      <th>EXP_ASSAY</th>\n",
       "      <td>623</td>\n",
       "    </tr>\n",
       "    <tr>\n",
       "      <th>GENEPROD</th>\n",
       "      <td>15,185</td>\n",
       "    </tr>\n",
       "    <tr>\n",
       "      <th>ORGANISM</th>\n",
       "      <td>431</td>\n",
       "    </tr>\n",
       "    <tr>\n",
       "      <th>SMALL_MOLECULE</th>\n",
       "      <td>3,663</td>\n",
       "    </tr>\n",
       "    <tr>\n",
       "      <th>SUBCELLULAR</th>\n",
       "      <td>754</td>\n",
       "    </tr>\n",
       "    <tr>\n",
       "      <th>TISSUE</th>\n",
       "      <td>1,195</td>\n",
       "    </tr>\n",
       "  </tbody>\n",
       "</table>\n",
       "</div>"
      ],
      "text/plain": [
       "                 total\n",
       "type                  \n",
       "CELL_LINE          732\n",
       "CELL_TYPE          450\n",
       "DISEASE            489\n",
       "EXP_ASSAY          623\n",
       "GENEPROD        15,185\n",
       "ORGANISM           431\n",
       "SMALL_MOLECULE   3,663\n",
       "SUBCELLULAR        754\n",
       "TISSUE           1,195"
      ]
     },
     "execution_count": 49,
     "metadata": {},
     "output_type": "execute_result"
    }
   ],
   "source": [
    "entity_type_totals = df.groupby(['type']).agg({'db_ids': lambda x: len(set([z for y in x for z in y]))}).rename(columns={'db_ids':\"total\"})\n",
    "entity_type_totals['total'] = entity_type_totals['total'].map(lambda x: format(x, ','))\n",
    "entity_type_totals"
   ]
  },
  {
   "cell_type": "code",
   "execution_count": null,
   "metadata": {},
   "outputs": [
    {
     "data": {
      "text/html": [
       "<div>\n",
       "<style scoped>\n",
       "    .dataframe tbody tr th:only-of-type {\n",
       "        vertical-align: middle;\n",
       "    }\n",
       "\n",
       "    .dataframe tbody tr th {\n",
       "        vertical-align: top;\n",
       "    }\n",
       "\n",
       "    .dataframe thead th {\n",
       "        text-align: right;\n",
       "    }\n",
       "</style>\n",
       "<table border=\"1\" class=\"dataframe\">\n",
       "  <thead>\n",
       "    <tr style=\"text-align: right;\">\n",
       "      <th></th>\n",
       "      <th></th>\n",
       "      <th>unique_ents</th>\n",
       "    </tr>\n",
       "    <tr>\n",
       "      <th>split</th>\n",
       "      <th>type</th>\n",
       "      <th></th>\n",
       "    </tr>\n",
       "  </thead>\n",
       "  <tbody>\n",
       "    <tr>\n",
       "      <th rowspan=\"9\" valign=\"top\">test</th>\n",
       "      <th>CELL_LINE</th>\n",
       "      <td>134</td>\n",
       "    </tr>\n",
       "    <tr>\n",
       "      <th>CELL_TYPE</th>\n",
       "      <td>171</td>\n",
       "    </tr>\n",
       "    <tr>\n",
       "      <th>DISEASE</th>\n",
       "      <td>107</td>\n",
       "    </tr>\n",
       "    <tr>\n",
       "      <th>EXP_ASSAY</th>\n",
       "      <td>275</td>\n",
       "    </tr>\n",
       "    <tr>\n",
       "      <th>GENEPROD</th>\n",
       "      <td>2620</td>\n",
       "    </tr>\n",
       "    <tr>\n",
       "      <th>ORGANISM</th>\n",
       "      <td>88</td>\n",
       "    </tr>\n",
       "    <tr>\n",
       "      <th>SMALL_MOLECULE</th>\n",
       "      <td>732</td>\n",
       "    </tr>\n",
       "    <tr>\n",
       "      <th>SUBCELLULAR</th>\n",
       "      <td>237</td>\n",
       "    </tr>\n",
       "    <tr>\n",
       "      <th>TISSUE</th>\n",
       "      <td>332</td>\n",
       "    </tr>\n",
       "    <tr>\n",
       "      <th rowspan=\"9\" valign=\"top\">train</th>\n",
       "      <th>CELL_LINE</th>\n",
       "      <td>643</td>\n",
       "    </tr>\n",
       "    <tr>\n",
       "      <th>CELL_TYPE</th>\n",
       "      <td>409</td>\n",
       "    </tr>\n",
       "    <tr>\n",
       "      <th>DISEASE</th>\n",
       "      <td>419</td>\n",
       "    </tr>\n",
       "    <tr>\n",
       "      <th>EXP_ASSAY</th>\n",
       "      <td>580</td>\n",
       "    </tr>\n",
       "    <tr>\n",
       "      <th>GENEPROD</th>\n",
       "      <td>12902</td>\n",
       "    </tr>\n",
       "    <tr>\n",
       "      <th>ORGANISM</th>\n",
       "      <td>366</td>\n",
       "    </tr>\n",
       "    <tr>\n",
       "      <th>SMALL_MOLECULE</th>\n",
       "      <td>3176</td>\n",
       "    </tr>\n",
       "    <tr>\n",
       "      <th>SUBCELLULAR</th>\n",
       "      <td>671</td>\n",
       "    </tr>\n",
       "    <tr>\n",
       "      <th>TISSUE</th>\n",
       "      <td>1045</td>\n",
       "    </tr>\n",
       "    <tr>\n",
       "      <th rowspan=\"9\" valign=\"top\">validation</th>\n",
       "      <th>CELL_LINE</th>\n",
       "      <td>164</td>\n",
       "    </tr>\n",
       "    <tr>\n",
       "      <th>CELL_TYPE</th>\n",
       "      <td>165</td>\n",
       "    </tr>\n",
       "    <tr>\n",
       "      <th>DISEASE</th>\n",
       "      <td>99</td>\n",
       "    </tr>\n",
       "    <tr>\n",
       "      <th>EXP_ASSAY</th>\n",
       "      <td>263</td>\n",
       "    </tr>\n",
       "    <tr>\n",
       "      <th>GENEPROD</th>\n",
       "      <td>2837</td>\n",
       "    </tr>\n",
       "    <tr>\n",
       "      <th>ORGANISM</th>\n",
       "      <td>115</td>\n",
       "    </tr>\n",
       "    <tr>\n",
       "      <th>SMALL_MOLECULE</th>\n",
       "      <td>822</td>\n",
       "    </tr>\n",
       "    <tr>\n",
       "      <th>SUBCELLULAR</th>\n",
       "      <td>244</td>\n",
       "    </tr>\n",
       "    <tr>\n",
       "      <th>TISSUE</th>\n",
       "      <td>359</td>\n",
       "    </tr>\n",
       "  </tbody>\n",
       "</table>\n",
       "</div>"
      ],
      "text/plain": [
       "                           unique_ents\n",
       "split      type                       \n",
       "test       CELL_LINE               134\n",
       "           CELL_TYPE               171\n",
       "           DISEASE                 107\n",
       "           EXP_ASSAY               275\n",
       "           GENEPROD               2620\n",
       "           ORGANISM                 88\n",
       "           SMALL_MOLECULE          732\n",
       "           SUBCELLULAR             237\n",
       "           TISSUE                  332\n",
       "train      CELL_LINE               643\n",
       "           CELL_TYPE               409\n",
       "           DISEASE                 419\n",
       "           EXP_ASSAY               580\n",
       "           GENEPROD              12902\n",
       "           ORGANISM                366\n",
       "           SMALL_MOLECULE         3176\n",
       "           SUBCELLULAR             671\n",
       "           TISSUE                 1045\n",
       "validation CELL_LINE               164\n",
       "           CELL_TYPE               165\n",
       "           DISEASE                  99\n",
       "           EXP_ASSAY               263\n",
       "           GENEPROD               2837\n",
       "           ORGANISM                115\n",
       "           SMALL_MOLECULE          822\n",
       "           SUBCELLULAR             244\n",
       "           TISSUE                  359"
      ]
     },
     "execution_count": 21,
     "metadata": {},
     "output_type": "execute_result"
    }
   ],
   "source": [
    "\n",
    "unique_entities = df.groupby(['split','type']).agg({'db_ids': lambda x: len(set([z for y in x for z in y]))}).rename(columns={'db_ids':\"unique_ents\"})#.unstack('split')\n",
    "unique_entities"
   ]
  },
  {
   "cell_type": "code",
   "execution_count": null,
   "metadata": {},
   "outputs": [],
   "source": [
    "stats = pd.concat([entity_totals, unique_entities], axis=1)\n",
    "stats['percent'] = 100 * (stats['unique_ents']/stats['count']).round(3)\n",
    "for col in ['unique_ents','count']:\n",
    "    stats[col] = stats[col].map(lambda x: format(x, ','))\n",
    "stats = stats.unstack('split').swaplevel(axis=1)"
   ]
  },
  {
   "cell_type": "code",
   "execution_count": null,
   "metadata": {},
   "outputs": [
    {
     "data": {
      "text/plain": [
       "array(['CELL_LINE', 'CELL_TYPE', 'DISEASE', 'EXP_ASSAY', 'GENEPROD',\n",
       "       'ORGANISM', 'SMALL_MOLECULE', 'SUBCELLULAR', 'TISSUE'],\n",
       "      dtype=object)"
      ]
     },
     "execution_count": 61,
     "metadata": {},
     "output_type": "execute_result"
    }
   ],
   "source": [
    "output_stats.type.unique()"
   ]
  },
  {
   "cell_type": "code",
   "execution_count": null,
   "metadata": {},
   "outputs": [
    {
     "name": "stdout",
     "output_type": "stream",
     "text": [
      "\\begin{tabular}{llllrllrllrl}\n",
      "\\toprule\n",
      " & type & count & unique_ents & percent & count & unique_ents & percent & count & unique_ents & percent & total \\\\\n",
      "\\midrule\n",
      " & Cell Line & 15,383 & 643 & 4.2 & 1,712 & 134 & 7.8 & 2,325 & 164 & 7.1 & 732 \\\\\n",
      " & Cell Type & 17,621 & 409 & 2.3 & 2,198 & 171 & 7.8 & 2,490 & 165 & 6.6 & 450 \\\\\n",
      " & Disease & 4,577 & 419 & 9.2 & 529 & 107 & 20.2 & 581 & 99 & 17.0 & 489 \\\\\n",
      " & Exp. assay & 59,926 & 580 & 1.0 & 7,118 & 275 & 3.9 & 7,995 & 263 & 3.3 & 623 \\\\\n",
      " & Gene products & 102,099 & 12,902 & 12.6 & 12,673 & 2,620 & 20.7 & 15,183 & 2,837 & 18.7 & 15,185 \\\\\n",
      " & Organism & 24,192 & 366 & 1.5 & 3,287 & 88 & 2.7 & 3,230 & 115 & 3.6 & 431 \\\\\n",
      " & Small Mol. & 43,827 & 3,176 & 7.2 & 4,656 & 732 & 15.7 & 6,069 & 822 & 13.5 & 3,663 \\\\\n",
      " & Subcellular & 20,312 & 671 & 3.3 & 2,689 & 237 & 8.8 & 3,104 & 244 & 7.9 & 754 \\\\\n",
      " & Tissue & 20,054 & 1,045 & 5.2 & 2,604 & 332 & 12.7 & 3,185 & 359 & 11.3 & 1,195 \\\\\n",
      "\\bottomrule\n",
      "\\end{tabular}\n",
      "\n"
     ]
    }
   ],
   "source": [
    "output_stats = pd.concat([stats[split] for split in df['split'].unique()] + [entity_type_totals], axis=1).reset_index()\n",
    "output_stats.index = [''] * output_stats.shape[0]\n",
    "output_stats['type'] = output_stats['type'].map({'CELL_LINE': \"Cell Line\", 'CELL_TYPE': \"Cell Type\", 'DISEASE': \"Disease\", 'EXP_ASSAY': \"Exp. assay\", 'GENEPROD': \"Gene products\",\n",
    "       'ORGANISM':'Organism', 'SMALL_MOLECULE':\"Small Mol.\", 'SUBCELLULAR':\"Subcellular\", 'TISSUE':\"Tissue\"})\n",
    "print(output_stats.round(1).to_latex(escape=False,float_format=lambda x: f'{x:.1f}'))\n"
   ]
  },
  {
   "cell_type": "code",
   "execution_count": null,
   "metadata": {},
   "outputs": [
    {
     "data": {
      "text/html": [
       "<div>\n",
       "<style scoped>\n",
       "    .dataframe tbody tr th:only-of-type {\n",
       "        vertical-align: middle;\n",
       "    }\n",
       "\n",
       "    .dataframe tbody tr th {\n",
       "        vertical-align: top;\n",
       "    }\n",
       "\n",
       "    .dataframe thead th {\n",
       "        text-align: right;\n",
       "    }\n",
       "</style>\n",
       "<table border=\"1\" class=\"dataframe\">\n",
       "  <thead>\n",
       "    <tr style=\"text-align: right;\">\n",
       "      <th></th>\n",
       "      <th>count</th>\n",
       "      <th>unique_ents</th>\n",
       "      <th>percent</th>\n",
       "      <th>count</th>\n",
       "      <th>unique_ents</th>\n",
       "      <th>percent</th>\n",
       "      <th>count</th>\n",
       "      <th>unique_ents</th>\n",
       "      <th>percent</th>\n",
       "      <th>total</th>\n",
       "    </tr>\n",
       "    <tr>\n",
       "      <th>type</th>\n",
       "      <th></th>\n",
       "      <th></th>\n",
       "      <th></th>\n",
       "      <th></th>\n",
       "      <th></th>\n",
       "      <th></th>\n",
       "      <th></th>\n",
       "      <th></th>\n",
       "      <th></th>\n",
       "      <th></th>\n",
       "    </tr>\n",
       "  </thead>\n",
       "  <tbody>\n",
       "    <tr>\n",
       "      <th>CELL_LINE</th>\n",
       "      <td>15,383</td>\n",
       "      <td>643</td>\n",
       "      <td>4.2</td>\n",
       "      <td>1,712</td>\n",
       "      <td>134</td>\n",
       "      <td>7.8</td>\n",
       "      <td>2,325</td>\n",
       "      <td>164</td>\n",
       "      <td>7.1</td>\n",
       "      <td>732</td>\n",
       "    </tr>\n",
       "    <tr>\n",
       "      <th>CELL_TYPE</th>\n",
       "      <td>17,621</td>\n",
       "      <td>409</td>\n",
       "      <td>2.3</td>\n",
       "      <td>2,198</td>\n",
       "      <td>171</td>\n",
       "      <td>7.8</td>\n",
       "      <td>2,490</td>\n",
       "      <td>165</td>\n",
       "      <td>6.6</td>\n",
       "      <td>450</td>\n",
       "    </tr>\n",
       "    <tr>\n",
       "      <th>DISEASE</th>\n",
       "      <td>4,577</td>\n",
       "      <td>419</td>\n",
       "      <td>9.2</td>\n",
       "      <td>529</td>\n",
       "      <td>107</td>\n",
       "      <td>20.2</td>\n",
       "      <td>581</td>\n",
       "      <td>99</td>\n",
       "      <td>17.0</td>\n",
       "      <td>489</td>\n",
       "    </tr>\n",
       "    <tr>\n",
       "      <th>EXP_ASSAY</th>\n",
       "      <td>59,926</td>\n",
       "      <td>580</td>\n",
       "      <td>1.0</td>\n",
       "      <td>7,118</td>\n",
       "      <td>275</td>\n",
       "      <td>3.9</td>\n",
       "      <td>7,995</td>\n",
       "      <td>263</td>\n",
       "      <td>3.3</td>\n",
       "      <td>623</td>\n",
       "    </tr>\n",
       "    <tr>\n",
       "      <th>GENEPROD</th>\n",
       "      <td>102,099</td>\n",
       "      <td>12,902</td>\n",
       "      <td>12.6</td>\n",
       "      <td>12,673</td>\n",
       "      <td>2,620</td>\n",
       "      <td>20.7</td>\n",
       "      <td>15,183</td>\n",
       "      <td>2,837</td>\n",
       "      <td>18.7</td>\n",
       "      <td>15,185</td>\n",
       "    </tr>\n",
       "    <tr>\n",
       "      <th>ORGANISM</th>\n",
       "      <td>24,192</td>\n",
       "      <td>366</td>\n",
       "      <td>1.5</td>\n",
       "      <td>3,287</td>\n",
       "      <td>88</td>\n",
       "      <td>2.7</td>\n",
       "      <td>3,230</td>\n",
       "      <td>115</td>\n",
       "      <td>3.6</td>\n",
       "      <td>431</td>\n",
       "    </tr>\n",
       "    <tr>\n",
       "      <th>SMALL_MOLECULE</th>\n",
       "      <td>43,827</td>\n",
       "      <td>3,176</td>\n",
       "      <td>7.2</td>\n",
       "      <td>4,656</td>\n",
       "      <td>732</td>\n",
       "      <td>15.7</td>\n",
       "      <td>6,069</td>\n",
       "      <td>822</td>\n",
       "      <td>13.5</td>\n",
       "      <td>3,663</td>\n",
       "    </tr>\n",
       "    <tr>\n",
       "      <th>SUBCELLULAR</th>\n",
       "      <td>20,312</td>\n",
       "      <td>671</td>\n",
       "      <td>3.3</td>\n",
       "      <td>2,689</td>\n",
       "      <td>237</td>\n",
       "      <td>8.8</td>\n",
       "      <td>3,104</td>\n",
       "      <td>244</td>\n",
       "      <td>7.9</td>\n",
       "      <td>754</td>\n",
       "    </tr>\n",
       "    <tr>\n",
       "      <th>TISSUE</th>\n",
       "      <td>20,054</td>\n",
       "      <td>1,045</td>\n",
       "      <td>5.2</td>\n",
       "      <td>2,604</td>\n",
       "      <td>332</td>\n",
       "      <td>12.7</td>\n",
       "      <td>3,185</td>\n",
       "      <td>359</td>\n",
       "      <td>11.3</td>\n",
       "      <td>1,195</td>\n",
       "    </tr>\n",
       "  </tbody>\n",
       "</table>\n",
       "</div>"
      ],
      "text/plain": [
       "                  count unique_ents  percent   count unique_ents  percent  \\\n",
       "type                                                                        \n",
       "CELL_LINE        15,383         643      4.2   1,712         134      7.8   \n",
       "CELL_TYPE        17,621         409      2.3   2,198         171      7.8   \n",
       "DISEASE           4,577         419      9.2     529         107     20.2   \n",
       "EXP_ASSAY        59,926         580      1.0   7,118         275      3.9   \n",
       "GENEPROD        102,099      12,902     12.6  12,673       2,620     20.7   \n",
       "ORGANISM         24,192         366      1.5   3,287          88      2.7   \n",
       "SMALL_MOLECULE   43,827       3,176      7.2   4,656         732     15.7   \n",
       "SUBCELLULAR      20,312         671      3.3   2,689         237      8.8   \n",
       "TISSUE           20,054       1,045      5.2   2,604         332     12.7   \n",
       "\n",
       "                 count unique_ents  percent   total  \n",
       "type                                                 \n",
       "CELL_LINE        2,325         164      7.1     732  \n",
       "CELL_TYPE        2,490         165      6.6     450  \n",
       "DISEASE            581          99     17.0     489  \n",
       "EXP_ASSAY        7,995         263      3.3     623  \n",
       "GENEPROD        15,183       2,837     18.7  15,185  \n",
       "ORGANISM         3,230         115      3.6     431  \n",
       "SMALL_MOLECULE   6,069         822     13.5   3,663  \n",
       "SUBCELLULAR      3,104         244      7.9     754  \n",
       "TISSUE           3,185         359     11.3   1,195  "
      ]
     },
     "execution_count": 55,
     "metadata": {},
     "output_type": "execute_result"
    }
   ],
   "source": [
    "output_stats"
   ]
  },
  {
   "cell_type": "code",
   "execution_count": null,
   "metadata": {},
   "outputs": [
    {
     "data": {
      "text/plain": [
       "'123,445'"
      ]
     },
     "execution_count": 42,
     "metadata": {},
     "output_type": "execute_result"
    }
   ],
   "source": [
    "format(123445, ',')"
   ]
  },
  {
   "cell_type": "code",
   "execution_count": null,
   "metadata": {},
   "outputs": [
    {
     "data": {
      "text/plain": [
       "20204"
      ]
     },
     "metadata": {},
     "output_type": "display_data"
    },
    {
     "data": {
      "text/plain": [
       "4696"
      ]
     },
     "metadata": {},
     "output_type": "display_data"
    },
    {
     "data": {
      "text/plain": [
       "5067"
      ]
     },
     "metadata": {},
     "output_type": "display_data"
    }
   ],
   "source": [
    "for split in ['train','test','validation']:\n",
    "    print(split)\n",
    "    display(len(set([y for x in df.loc[df.split==split, 'db_ids']for y in x] )))\n",
    "    for ent_type in ['CELL_TYPE', 'GENEPROD', 'SUBCELLULAR', 'SMALL_MOLECULE','EXP_ASSAY', 'CELL_LINE', 'TISSUE', 'ORGANISM', 'DISEASE']:\n",
    "        "
   ]
  },
  {
   "cell_type": "code",
   "execution_count": null,
   "metadata": {},
   "outputs": [
    {
     "name": "stderr",
     "output_type": "stream",
     "text": [
      "  0%|          | 0/1 [00:00<?, ?it/s][2024-04-06 22:06:08] [ontology.py] [INFO] Reading OBO ontology from http://purl.obolibrary.org/obo/uberon.obo\n"
     ]
    },
    {
     "name": "stderr",
     "output_type": "stream",
     "text": [
      "[2024-04-06 22:06:14] [ontology.py] [WARNING] Data entry for CUI UBERON:60005380 has no listed names/aliases.  Skipping.\n",
      "100%|██████████| 25100/25100 [00:00<00:00, 353010.91it/s]\n"
     ]
    },
    {
     "data": {
      "text/plain": [
       "[BiomedicalEntity(cui='UBERON:0000000', name='processual entity', types=['TISSUE'], aliases=[], definition='An occurrent [span:Occurrent] that exists in time by occurring or happening, has temporal parts and always involves and depends on some entity.', equivalant_cuis=None, taxonomy=None, metadata=None),\n",
       " BiomedicalEntity(cui='UBERON:0000002', name='uterine cervix', types=['TISSUE'], aliases=['canalis cervicis uteri', 'caudal segment of uterus', 'cervical canal', 'cervical canal of uterus', 'cervix', 'cervix of uterus', 'cervix uteri', 'neck of uterus', 'uterine cervix'], definition='Lower, narrow portion of the uterus where it joins with the top end of the vagina.', equivalant_cuis=None, taxonomy=None, metadata=None),\n",
       " BiomedicalEntity(cui='UBERON:0000003', name='naris', types=['TISSUE'], aliases=[], definition='Orifice of the olfactory system. The naris is the route by which odorants enter the olfactory system[MAH].', equivalant_cuis=None, taxonomy=None, metadata=None),\n",
       " BiomedicalEntity(cui='UBERON:0000004', name='nose', types=['TISSUE'], aliases=['nasal sac', 'nasus', 'nose', 'olfactory apparatus', 'peripheral olfactory organ', 'proboscis'], definition='The olfactory organ of vertebrates, consisting of nares, olfactory epithelia and the structures and skeletal framework of the nasal cavity.', equivalant_cuis=None, taxonomy=None, metadata=None),\n",
       " BiomedicalEntity(cui='UBERON:0000005', name='chemosensory organ', types=['TISSUE'], aliases=['chemosensory sensory organ'], definition=None, equivalant_cuis=None, taxonomy=None, metadata=None),\n",
       " BiomedicalEntity(cui='UBERON:0000006', name='islet of Langerhans', types=['TISSUE'], aliases=['island of Langerhans', 'island of pancreas', 'islets of Langerhans', 'pancreatic insula', 'pancreatic islet'], definition='The clusters of hormone-producing cells that are scattered throughout the pancreas.', equivalant_cuis=None, taxonomy=None, metadata=None),\n",
       " BiomedicalEntity(cui='UBERON:0000007', name='pituitary gland', types=['TISSUE'], aliases=['glandula pituitaria', 'Hp', 'hypophysis', 'hypophysis cerebri', 'pituitary', 'pituitary body'], definition='The pituitary gland is an endocrine gland that secretes hormones that regulate many other glands [GO]. An endocrine gland located ventral to the diencephalon and derived from mixed neuroectodermal and non neuroectodermal origin [ZFIN].', equivalant_cuis=None, taxonomy=None, metadata=None),\n",
       " BiomedicalEntity(cui='UBERON:0000009', name='submucosa', types=['TISSUE'], aliases=['organ submucosa', 'region of submucosa', 'submucosa of organ', 'submucosa of region of organ', 'submucous layer', 'tela submucosa', 'tunica submucosa'], definition='A layer of dense irregular connective tissue that lines organs and supports the mucosa, as well as joins the mucosa to the bulk of underlying smooth muscle. [WP,unvetted].', equivalant_cuis=None, taxonomy=None, metadata=None),\n",
       " BiomedicalEntity(cui='UBERON:0000010', name='peripheral nervous system', types=['TISSUE'], aliases=['pars peripherica', 'PNS', 'systema nervosum periphericum'], definition='A major division of the nervous system that contains nerves which connect the central nervous system (CNS) with sensory organs, other organs, muscles, blood vessels and glands.', equivalant_cuis=None, taxonomy=None, metadata=None),\n",
       " BiomedicalEntity(cui='UBERON:0000011', name='parasympathetic nervous system', types=['TISSUE'], aliases=['parasympathetic part of autonomic division of nervous system', 'pars parasympathica divisionis autonomici systematis nervosi', 'pars parasympathica divisionis autonomici systematis nervosi', 'PNS - parasympathetic'], definition='The parasympathetic nervous system is one of the two divisions of the vertebrate autonomic nervous system. Parasympathetic nerves emerge cranially as pre ganglionic fibers from oculomotor, facial, glossopharyngeal and vagus and from the sacral region of the spinal cord. Most neurons are cholinergic and responses are mediated by muscarinic receptors. The parasympathetic system innervates, for example: salivary glands, thoracic and abdominal viscera, bladder and genitalia[GO].', equivalant_cuis=None, taxonomy=None, metadata=None)]"
      ]
     },
     "metadata": {},
     "output_type": "display_data"
    },
    {
     "name": "stderr",
     "output_type": "stream",
     "text": [
      "100%|██████████| 14480/14480 [00:00<00:00, 641833.79it/s]\n",
      "100%|██████████| 1/1 [00:06<00:00,  6.01s/it]\n"
     ]
    }
   ],
   "source": [
    "test_cases = [\n",
    "        # {'filepath': 'https://raw.githubusercontent.com/DiseaseOntology/HumanDiseaseOntology/main/src/ontology/doid.obo',\n",
    "        # 'name': 'disease ontology',\n",
    "        # 'prefix_to_keep': None,\n",
    "        # 'entity_type': 'DISEASE',\n",
    "        # 'abbrev': 'DOID'},\n",
    "        # {'filepath': 'http://purl.obolibrary.org/obo/cl.obo',\n",
    "        # 'name': 'cell ontology',\n",
    "        # 'prefix_to_keep': 'CL',\n",
    "        # 'entity_type': 'CELL_TYPE',\n",
    "        # 'abbrev': 'CL'},\n",
    "        {'filepath': 'http://purl.obolibrary.org/obo/uberon.obo',\n",
    "        'name': 'uberon',\n",
    "        'prefix_to_keep': 'UBERON',\n",
    "        'entity_type': 'TISSUE',\n",
    "        'abbrev': 'UBERON'},\n",
    "        # {'filepath': 'http://purl.obolibrary.org/obo/obi.obo',\n",
    "        # 'name': 'ontology of biological investigations',\n",
    "        # 'prefix_to_keep': 'OBI',\n",
    "        # 'entity_type': 'EXP_ASSAY',\n",
    "        # 'abbrev': 'OBI'},\n",
    "        # {'filepath': 'https://ftp.expasy.org/databases/cellosaurus/cellosaurus.obo',\n",
    "        # 'name': 'cellosaurus',\n",
    "        # 'prefix_to_keep': None,\n",
    "        # 'entity_type': 'CELL_LINE',\n",
    "        # 'abbrev': 'CVCL'},\n",
    "        # {'filepath': 'http://purl.obolibrary.org/obo/go.obo',\n",
    "        # 'name': 'gene ontology',\n",
    "        # 'prefix_to_keep': None,\n",
    "        # 'entity_type': 'SUBCELLULAR',\n",
    "        # 'abbrev': 'GO'},\n",
    "        # {'filepath': 'http://purl.obolibrary.org/obo/po.obo',\n",
    "        # 'name': 'plant ontology',\n",
    "        # 'prefix_to_keep': \"PO\",\n",
    "        # 'entity_type': 'TISSUE',\n",
    "        # 'abbrev': 'PO'},\n",
    "        # {'filepath': 'http://purl.obolibrary.org/obo/chebi.obo',\n",
    "        # 'name': 'ChEBI',\n",
    "        # 'prefix_to_keep': None,\n",
    "        # 'entity_type': 'SMALL_MOLECULE',\n",
    "        # 'abbrev': 'CHEBI'},\n",
    "        ]\n",
    "\n",
    "for obo_dict in tqdm(test_cases):\n",
    "    ontology = BiomedicalOntology.load_obo(**obo_dict)\n",
    "    display(ontology.entities[:10])\n",
    "    aliases = ontology.get_aliases()\n",
    "    with open(os.path.join('..','data','soda_aliases',obo_dict['entity_type']), 'w') as f:\n",
    "        for key, val in tqdm(aliases.items()):\n",
    "            for a in val:\n",
    "                f.write(f\"{key}||{a}\\n\")\n",
    "\n",
    "                 \n",
    "                     \n",
    "            \n",
    "    \n",
    "    "
   ]
  },
  {
   "cell_type": "code",
   "execution_count": null,
   "metadata": {},
   "outputs": [],
   "source": [
    "corum_ents = []\n",
    "for doc in data['train']['entities']:\n",
    "    for x in doc:\n",
    "        for y in x['normalized']:\n",
    "            if 'corum' in y['db_name'].lower():\n",
    "                corum_ents.append(x)\n",
    "                continue"
   ]
  },
  {
   "cell_type": "code",
   "execution_count": null,
   "metadata": {},
   "outputs": [
    {
     "data": {
      "text/plain": [
       "[{'id': '312824',\n",
       "  'type': 'SUBCELLULAR',\n",
       "  'text': ['MRN'],\n",
       "  'offsets': [[4559, 4562]],\n",
       "  'normalized': [{'db_name': 'Corum', 'db_id': '71'}]},\n",
       " {'id': '312825',\n",
       "  'type': 'SUBCELLULAR',\n",
       "  'text': ['9-1-1'],\n",
       "  'offsets': [[4579, 4584]],\n",
       "  'normalized': [{'db_name': 'Corum', 'db_id': '267'}]},\n",
       " {'id': '312829',\n",
       "  'type': 'SUBCELLULAR',\n",
       "  'text': ['MRN'],\n",
       "  'offsets': [[4799, 4802]],\n",
       "  'normalized': [{'db_name': 'Corum', 'db_id': '71'}]},\n",
       " {'id': '312830',\n",
       "  'type': 'SUBCELLULAR',\n",
       "  'text': ['9-1-1'],\n",
       "  'offsets': [[4819, 4824]],\n",
       "  'normalized': [{'db_name': 'Corum', 'db_id': '267'}]},\n",
       " {'id': '325230',\n",
       "  'type': 'SUBCELLULAR',\n",
       "  'text': ['GSEC'],\n",
       "  'offsets': [[1407, 1411]],\n",
       "  'normalized': [{'db_name': 'Corum', 'db_id': '5871'}]},\n",
       " {'id': '325242',\n",
       "  'type': 'SUBCELLULAR',\n",
       "  'text': ['GSECs'],\n",
       "  'offsets': [[1561, 1566]],\n",
       "  'normalized': [{'db_name': 'Corum', 'db_id': '5871'}]},\n",
       " {'id': '325247',\n",
       "  'type': 'SUBCELLULAR',\n",
       "  'text': ['GSEC'],\n",
       "  'offsets': [[1679, 1683]],\n",
       "  'normalized': [{'db_name': 'Corum', 'db_id': '5871'}]},\n",
       " {'id': '325277',\n",
       "  'type': 'SUBCELLULAR',\n",
       "  'text': ['GSEC'],\n",
       "  'offsets': [[2183, 2187]],\n",
       "  'normalized': [{'db_name': 'Corum', 'db_id': '5871'}]},\n",
       " {'id': '325280',\n",
       "  'type': 'SUBCELLULAR',\n",
       "  'text': ['GSEC'],\n",
       "  'offsets': [[2356, 2360]],\n",
       "  'normalized': [{'db_name': 'Corum', 'db_id': '5871'}]},\n",
       " {'id': '325290',\n",
       "  'type': 'SUBCELLULAR',\n",
       "  'text': ['GSEC'],\n",
       "  'offsets': [[2604, 2608]],\n",
       "  'normalized': [{'db_name': 'Corum', 'db_id': '5871'}]},\n",
       " {'id': '325292',\n",
       "  'type': 'SUBCELLULAR',\n",
       "  'text': ['GSEC'],\n",
       "  'offsets': [[2853, 2857]],\n",
       "  'normalized': [{'db_name': 'Corum', 'db_id': '5871'}]},\n",
       " {'id': '325296',\n",
       "  'type': 'SUBCELLULAR',\n",
       "  'text': ['GSEC'],\n",
       "  'offsets': [[2906, 2910]],\n",
       "  'normalized': [{'db_name': 'Corum', 'db_id': '5871'}]},\n",
       " {'id': '325298',\n",
       "  'type': 'SUBCELLULAR',\n",
       "  'text': ['GSEC'],\n",
       "  'offsets': [[2960, 2964]],\n",
       "  'normalized': [{'db_name': 'Corum', 'db_id': '5871'}]},\n",
       " {'id': '325307',\n",
       "  'type': 'SUBCELLULAR',\n",
       "  'text': ['GSEC'],\n",
       "  'offsets': [[3272, 3276]],\n",
       "  'normalized': [{'db_name': 'Corum', 'db_id': '5871'}]},\n",
       " {'id': '325334',\n",
       "  'type': 'SUBCELLULAR',\n",
       "  'text': ['GSEC'],\n",
       "  'offsets': [[4074, 4078]],\n",
       "  'normalized': [{'db_name': 'Corum', 'db_id': '5871'}]},\n",
       " {'id': '325349',\n",
       "  'type': 'SUBCELLULAR',\n",
       "  'text': ['GSEC'],\n",
       "  'offsets': [[4296, 4300]],\n",
       "  'normalized': [{'db_name': 'Corum', 'db_id': '5871'}]},\n",
       " {'id': '325376',\n",
       "  'type': 'SUBCELLULAR',\n",
       "  'text': ['GSEC'],\n",
       "  'offsets': [[5073, 5077]],\n",
       "  'normalized': [{'db_name': 'Corum', 'db_id': '5871'}]},\n",
       " {'id': '325433',\n",
       "  'type': 'SUBCELLULAR',\n",
       "  'text': ['GSEC'],\n",
       "  'offsets': [[7127, 7131]],\n",
       "  'normalized': [{'db_name': 'Corum', 'db_id': '5871'}]},\n",
       " {'id': '325441',\n",
       "  'type': 'SUBCELLULAR',\n",
       "  'text': ['GSEC'],\n",
       "  'offsets': [[7387, 7391]],\n",
       "  'normalized': [{'db_name': 'Corum', 'db_id': '5871'}]},\n",
       " {'id': '455907',\n",
       "  'type': 'SUBCELLULAR',\n",
       "  'text': ['nucleopore complexes'],\n",
       "  'offsets': [[7301, 7321]],\n",
       "  'normalized': [{'db_name': 'Corum', 'db_id': '568'}]},\n",
       " {'id': '455908',\n",
       "  'type': 'SUBCELLULAR',\n",
       "  'text': ['nucleopores'],\n",
       "  'offsets': [[7323, 7334]],\n",
       "  'normalized': [{'db_name': 'Corum', 'db_id': '568'}]},\n",
       " {'id': '529786',\n",
       "  'type': 'SUBCELLULAR',\n",
       "  'text': ['PIDDosome'],\n",
       "  'offsets': [[5022, 5031]],\n",
       "  'normalized': [{'db_name': 'Corum', 'db_id': '129'}]}]"
      ]
     },
     "execution_count": 8,
     "metadata": {},
     "output_type": "execute_result"
    }
   ],
   "source": []
  },
  {
   "cell_type": "code",
   "execution_count": null,
   "metadata": {},
   "outputs": [],
   "source": [
    "from transformers import (\n",
    "    AutoTokenizer, \n",
    "    AutoModel, \n",
    ")"
   ]
  },
  {
   "cell_type": "code",
   "execution_count": null,
   "metadata": {},
   "outputs": [
    {
     "data": {
      "text/plain": [
       "PreTrainedTokenizerFast(name_or_path='microsoft/BiomedNLP-BiomedBERT-base-uncased-abstract-fulltext', vocab_size=30522, model_max_len=1000000000000000019884624838656, is_fast=True, padding_side='right', special_tokens={'unk_token': '[UNK]', 'sep_token': '[SEP]', 'pad_token': '[PAD]', 'cls_token': '[CLS]', 'mask_token': '[MASK]'})"
      ]
     },
     "execution_count": 12,
     "metadata": {},
     "output_type": "execute_result"
    }
   ],
   "source": [
    "# AutoModel.from_pretrained(\"microsoft/BiomedNLP-BiomedBERT-base-uncased-abstract-fulltext\")\n",
    "AutoTokenizer.from_pretrained(\"microsoft/BiomedNLP-BiomedBERT-base-uncased-abstract-fulltext\", use_fast=True, do_lower_case = False)"
   ]
  },
  {
   "cell_type": "markdown",
   "metadata": {},
   "source": [
    "# Process BAO ontology"
   ]
  },
  {
   "cell_type": "code",
   "execution_count": null,
   "metadata": {},
   "outputs": [],
   "source": [
    "df = pd.read_csv('../data/soda_ontologies/BAO.csv')\n",
    "df.columns = [x.lower() for x in df.columns]\n",
    "bao = df[df['class id'].map(lambda x: \"BAO\" in x)]\n",
    "\n",
    "bao['curie'] = bao['class id'].map(lambda x: x.split(\"#\")[-1])\n",
    "bao = bao.set_index('curie')"
   ]
  },
  {
   "cell_type": "code",
   "execution_count": null,
   "metadata": {},
   "outputs": [],
   "source": [
    "cols = []\n",
    "for col in [x.lower() for x in bao.columns.tolist()]:\n",
    "    for x in ['label','alias','synonym','definition','description',\"term\"]:\n",
    "        if x in col:\n",
    "            cols.append(col)\n",
    "\n",
    "            print(col)\n",
    "            display(df.loc[~df[col].isnull(), [\"preferred label\", col]].head())\n",
    "            print('\\n\\n')\n",
    "\n",
    "cols"
   ]
  },
  {
   "cell_type": "code",
   "execution_count": null,
   "metadata": {},
   "outputs": [],
   "source": [
    "synonym_columns = ['preferred label',\n",
    " 'synonyms',\n",
    " 'alternative term',\n",
    " 'editor preferred term',\n",
    " 'has exact synonym',\n",
    " 'has_broad_synonym',\n",
    " 'has_narrow_synonym',\n",
    " 'has_related_synonym',\n",
    " 'iedb alternative term',\n",
    " 'label',\n",
    " ]\n",
    "\n",
    "definition_cols = [\n",
    " 'definitions',\n",
    " 'alt_definition',\n",
    " 'external_definition',\n",
    " 'textual definition'\n",
    "]\n",
    "\n",
    "\n",
    "bao_synonyms = bao[synonym_columns].apply(lambda x: '|'.join([y for y in x if not pd.isna(y)]), axis=1)\n",
    "\n",
    "# with open(os.path.join('..','data','soda_aliases','EXP_ASSAY.txt'), 'a') as f:\n",
    "#     for key, val in bao_synonyms.map(lambda x: list(set(x.split('|')))).to_dict().items():\n",
    "#         for v in val:\n",
    "#             f.write(f\"{key}||{v}\\n\")\n",
    "\n"
   ]
  },
  {
   "cell_type": "markdown",
   "metadata": {},
   "source": [
    "# Process NCBI Taxonomy"
   ]
  },
  {
   "cell_type": "code",
   "execution_count": null,
   "metadata": {},
   "outputs": [],
   "source": [
    "ncbi = pd.read_csv('../data/ncbi_taxonomy_names.txt', delimiter='|', na_filter=False, index_col=False, names=['tax_id','name','unique_name','name_class'])\n",
    "for col in ncbi.columns:\n",
    "    if ncbi[col].dtype not in [int, float]:\n",
    "        ncbi[col] = ncbi[col].map(lambda x: x.strip())\n",
    "        \n",
    "ncbi_scientific_names = ncbi.query('name_class == \"scientific name\"')\n",
    "tax2name = ncbi_scientific_names.set_index('tax_id')['name'].to_dict()\n",
    "\n",
    "with open('../data/tax2name.json','w') as f:\n",
    "    f.write(ujson.dumps(tax2name, indent=2))\n",
    "\n",
    "# Keep only name classes that encode useful information about aliases\n",
    "ncbi = ncbi[ncbi.name_class.isin(['synonym','scientific name','blast name','equivalent name','genbank common name','common name','acronym','genbank acronym'])]\n",
    "ncbi['tax_id'] = ncbi['tax_id'].map(lambda x: f'NCBI:{x}')\n",
    "\n",
    "ncbi2alias = ncbi.groupby('tax_id').agg({'name':lambda x: list(set(x))}).to_dict()['name']\n",
    "\n",
    "with open('../data/ncbi_to_alias.json','w') as f:\n",
    "    f.write(ujson.dumps(ncbi2alias))"
   ]
  },
  {
   "cell_type": "code",
   "execution_count": null,
   "metadata": {},
   "outputs": [],
   "source": [
    "with open(os.path.join('..','data','soda_aliases','ORGANISM.txt'), 'w') as f:\n",
    "    for key, val in ncbi2alias.items():\n",
    "        for v in val:\n",
    "            f.write(f\"{key}||{v}\\n\")"
   ]
  },
  {
   "cell_type": "markdown",
   "metadata": {},
   "source": [
    "# Entrez (NCBI Gene)"
   ]
  },
  {
   "cell_type": "code",
   "execution_count": 21,
   "metadata": {},
   "outputs": [
    {
     "name": "stderr",
     "output_type": "stream",
     "text": [
      "[2024-04-17 23:31:08] [ontology.py] [INFO] Loading NCBI Gene (Entrez).  This ontology is large and may take a few minutes.\n",
      "[2024-04-17 23:35:24] [ontology.py] [INFO] Filtering to desired taxa and gene types\n"
     ]
    },
    {
     "ename": "TypeError",
     "evalue": "'types.GenericAlias' object is not iterable",
     "output_type": "error",
     "traceback": [
      "\u001b[0;31m---------------------------------------------------------------------------\u001b[0m",
      "\u001b[0;31mTypeError\u001b[0m                                 Traceback (most recent call last)",
      "Cell \u001b[0;32mIn[21], line 1\u001b[0m\n\u001b[0;32m----> 1\u001b[0m ontology \u001b[38;5;241m=\u001b[39m BiomedicalOntology\u001b[38;5;241m.\u001b[39mload_ncbi_gene(taxa\u001b[38;5;241m=\u001b[39morg_list)\n\u001b[1;32m      2\u001b[0m \u001b[38;5;28mlen\u001b[39m(ontology)\n",
      "File \u001b[0;32m/nvme/home/dkartchner3/research/entity_linking/biomedical-entity-linking/notebooks/../bioel/ontology.py:256\u001b[0m, in \u001b[0;36mBiomedicalOntology.load_ncbi_gene\u001b[0;34m(cls, ncbigene_path, taxa, types_to_remove, remove_hypothetical, remove_predicted, debug)\u001b[0m\n\u001b[1;32m    253\u001b[0m filter_mask \u001b[38;5;241m=\u001b[39m np\u001b[38;5;241m.\u001b[39mones(entrez\u001b[38;5;241m.\u001b[39mshape[\u001b[38;5;241m0\u001b[39m])\u001b[38;5;241m.\u001b[39mastype(\u001b[38;5;28mbool\u001b[39m)\n\u001b[1;32m    255\u001b[0m \u001b[38;5;28;01mif\u001b[39;00m taxa:\n\u001b[0;32m--> 256\u001b[0m     filter_mask \u001b[38;5;241m=\u001b[39m (filter_mask) \u001b[38;5;241m&\u001b[39m ((\u001b[43mentrez\u001b[49m\u001b[38;5;241;43m.\u001b[39;49m\u001b[43mtax_id\u001b[49m\u001b[38;5;241;43m.\u001b[39;49m\u001b[43misin\u001b[49m\u001b[43m(\u001b[49m\u001b[43mtaxa\u001b[49m\u001b[43m)\u001b[49m))\n\u001b[1;32m    257\u001b[0m \u001b[38;5;28;01mif\u001b[39;00m types_to_remove:\n\u001b[1;32m    258\u001b[0m     filter_mask \u001b[38;5;241m=\u001b[39m (filter_mask) \u001b[38;5;241m&\u001b[39m (\u001b[38;5;241m~\u001b[39mentrez\u001b[38;5;241m.\u001b[39mtype_of_gene\u001b[38;5;241m.\u001b[39misin(types_to_remove))\n",
      "File \u001b[0;32m/nethome/dkartchner3/conda_envs/el-robustness/lib/python3.9/site-packages/pandas/core/series.py:5539\u001b[0m, in \u001b[0;36mSeries.isin\u001b[0;34m(self, values)\u001b[0m\n\u001b[1;32m   5466\u001b[0m \u001b[38;5;28;01mdef\u001b[39;00m \u001b[38;5;21misin\u001b[39m(\u001b[38;5;28mself\u001b[39m, values) \u001b[38;5;241m-\u001b[39m\u001b[38;5;241m>\u001b[39m Series:\n\u001b[1;32m   5467\u001b[0m     \u001b[38;5;124;03m\"\"\"\u001b[39;00m\n\u001b[1;32m   5468\u001b[0m \u001b[38;5;124;03m    Whether elements in Series are contained in `values`.\u001b[39;00m\n\u001b[1;32m   5469\u001b[0m \n\u001b[0;32m   (...)\u001b[0m\n\u001b[1;32m   5537\u001b[0m \u001b[38;5;124;03m    dtype: bool\u001b[39;00m\n\u001b[1;32m   5538\u001b[0m \u001b[38;5;124;03m    \"\"\"\u001b[39;00m\n\u001b[0;32m-> 5539\u001b[0m     result \u001b[38;5;241m=\u001b[39m \u001b[43malgorithms\u001b[49m\u001b[38;5;241;43m.\u001b[39;49m\u001b[43misin\u001b[49m\u001b[43m(\u001b[49m\u001b[38;5;28;43mself\u001b[39;49m\u001b[38;5;241;43m.\u001b[39;49m\u001b[43m_values\u001b[49m\u001b[43m,\u001b[49m\u001b[43m \u001b[49m\u001b[43mvalues\u001b[49m\u001b[43m)\u001b[49m\n\u001b[1;32m   5540\u001b[0m     \u001b[38;5;28;01mreturn\u001b[39;00m \u001b[38;5;28mself\u001b[39m\u001b[38;5;241m.\u001b[39m_constructor(result, index\u001b[38;5;241m=\u001b[39m\u001b[38;5;28mself\u001b[39m\u001b[38;5;241m.\u001b[39mindex, copy\u001b[38;5;241m=\u001b[39m\u001b[38;5;28;01mFalse\u001b[39;00m)\u001b[38;5;241m.\u001b[39m__finalize__(\n\u001b[1;32m   5541\u001b[0m         \u001b[38;5;28mself\u001b[39m, method\u001b[38;5;241m=\u001b[39m\u001b[38;5;124m\"\u001b[39m\u001b[38;5;124misin\u001b[39m\u001b[38;5;124m\"\u001b[39m\n\u001b[1;32m   5542\u001b[0m     )\n",
      "File \u001b[0;32m/nethome/dkartchner3/conda_envs/el-robustness/lib/python3.9/site-packages/pandas/core/algorithms.py:483\u001b[0m, in \u001b[0;36misin\u001b[0;34m(comps, values)\u001b[0m\n\u001b[1;32m    477\u001b[0m     \u001b[38;5;28;01mraise\u001b[39;00m \u001b[38;5;167;01mTypeError\u001b[39;00m(\n\u001b[1;32m    478\u001b[0m         \u001b[38;5;124m\"\u001b[39m\u001b[38;5;124monly list-like objects are allowed to be passed \u001b[39m\u001b[38;5;124m\"\u001b[39m\n\u001b[1;32m    479\u001b[0m         \u001b[38;5;124mf\u001b[39m\u001b[38;5;124m\"\u001b[39m\u001b[38;5;124mto isin(), you passed a `\u001b[39m\u001b[38;5;132;01m{\u001b[39;00m\u001b[38;5;28mtype\u001b[39m(values)\u001b[38;5;241m.\u001b[39m\u001b[38;5;18m__name__\u001b[39m\u001b[38;5;132;01m}\u001b[39;00m\u001b[38;5;124m`\u001b[39m\u001b[38;5;124m\"\u001b[39m\n\u001b[1;32m    480\u001b[0m     )\n\u001b[1;32m    482\u001b[0m \u001b[38;5;28;01mif\u001b[39;00m \u001b[38;5;129;01mnot\u001b[39;00m \u001b[38;5;28misinstance\u001b[39m(values, (ABCIndex, ABCSeries, ABCExtensionArray, np\u001b[38;5;241m.\u001b[39mndarray)):\n\u001b[0;32m--> 483\u001b[0m     orig_values \u001b[38;5;241m=\u001b[39m \u001b[38;5;28;43mlist\u001b[39;49m\u001b[43m(\u001b[49m\u001b[43mvalues\u001b[49m\u001b[43m)\u001b[49m\n\u001b[1;32m    484\u001b[0m     values \u001b[38;5;241m=\u001b[39m _ensure_arraylike(orig_values, func_name\u001b[38;5;241m=\u001b[39m\u001b[38;5;124m\"\u001b[39m\u001b[38;5;124misin-targets\u001b[39m\u001b[38;5;124m\"\u001b[39m)\n\u001b[1;32m    486\u001b[0m     \u001b[38;5;28;01mif\u001b[39;00m (\n\u001b[1;32m    487\u001b[0m         \u001b[38;5;28mlen\u001b[39m(values) \u001b[38;5;241m>\u001b[39m \u001b[38;5;241m0\u001b[39m\n\u001b[1;32m    488\u001b[0m         \u001b[38;5;129;01mand\u001b[39;00m values\u001b[38;5;241m.\u001b[39mdtype\u001b[38;5;241m.\u001b[39mkind \u001b[38;5;129;01min\u001b[39;00m \u001b[38;5;124m\"\u001b[39m\u001b[38;5;124miufcb\u001b[39m\u001b[38;5;124m\"\u001b[39m\n\u001b[0;32m   (...)\u001b[0m\n\u001b[1;32m    491\u001b[0m         \u001b[38;5;66;03m# GH#46485 Use object to avoid upcast to float64 later\u001b[39;00m\n\u001b[1;32m    492\u001b[0m         \u001b[38;5;66;03m# TODO: Share with _find_common_type_compat\u001b[39;00m\n",
      "\u001b[0;31mTypeError\u001b[0m: 'types.GenericAlias' object is not iterable"
     ]
    }
   ],
   "source": [
    "ontology = BiomedicalOntology.load_ncbi_gene(taxa=org_list)\n",
    "len(ontology)"
   ]
  },
  {
   "cell_type": "code",
   "execution_count": null,
   "metadata": {},
   "outputs": [
    {
     "name": "stderr",
     "output_type": "stream",
     "text": [
      "100%|██████████| 45510673/45510673 [00:53<00:00, 849525.96it/s]\n"
     ]
    }
   ],
   "source": [
    "aliases = ontology.get_aliases()\n",
    "with open(os.path.join('..','data','soda_aliases',\"GENEPROD.txt\"), 'w') as f:\n",
    "    for key, val in tqdm(aliases.items()):\n",
    "        for a in val:\n",
    "            f.write(f\"{key}||{a}\\n\")"
   ]
  },
  {
   "cell_type": "code",
   "execution_count": null,
   "metadata": {},
   "outputs": [],
   "source": []
  }
 ],
 "metadata": {
  "kernelspec": {
   "display_name": "Python 3",
   "language": "python",
   "name": "python3"
  },
  "language_info": {
   "codemirror_mode": {
    "name": "ipython",
    "version": 3
   },
   "file_extension": ".py",
   "mimetype": "text/x-python",
   "name": "python",
   "nbconvert_exporter": "python",
   "pygments_lexer": "ipython3",
   "version": "3.9.16"
  }
 },
 "nbformat": 4,
 "nbformat_minor": 2
}

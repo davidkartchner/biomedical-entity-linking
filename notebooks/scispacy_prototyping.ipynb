{
 "cells": [
  {
   "cell_type": "code",
   "execution_count": 18,
   "metadata": {},
   "outputs": [],
   "source": [
    "import spacy\n",
    "import numpy as np \n",
    "import pandas as pd\n",
    "import ujson\n",
    "import sys\n",
    "import time\n",
    "import pickle\n",
    "\n",
    "from tqdm import tqdm\n",
    "from scispacy.abbreviation import AbbreviationDetector\n",
    "from scispacy.linking import EntityLinker, CandidateGenerator\n",
    "from scispacy.umls_utils import UmlsKnowledgeBase\n",
    "# from bigbio.dataloader import BigBioConfigHelpers\n",
    "from typing import List, Optional\n",
    "from collections import defaultdict\n",
    "from matplotlib import pyplot as plt\n",
    "\n",
    "import pubmed_parser as pp"
   ]
  },
  {
   "cell_type": "code",
   "execution_count": 2,
   "metadata": {},
   "outputs": [
    {
     "name": "stderr",
     "output_type": "stream",
     "text": [
      "/nethome/dkartchner3/.local/lib/python3.10/site-packages/sklearn/base.py:329: UserWarning: Trying to unpickle estimator TfidfTransformer from version 0.20.3 when using version 1.1.3. This might lead to breaking code or invalid results. Use at your own risk. For more info please refer to:\n",
      "https://scikit-learn.org/stable/model_persistence.html#security-maintainability-limitations\n",
      "  warnings.warn(\n",
      "/nethome/dkartchner3/.local/lib/python3.10/site-packages/sklearn/base.py:329: UserWarning: Trying to unpickle estimator TfidfVectorizer from version 0.20.3 when using version 1.1.3. This might lead to breaking code or invalid results. Use at your own risk. For more info please refer to:\n",
      "https://scikit-learn.org/stable/model_persistence.html#security-maintainability-limitations\n",
      "  warnings.warn(\n"
     ]
    },
    {
     "data": {
      "text/plain": [
       "<scispacy.linking.EntityLinker at 0x7faf8c89cac0>"
      ]
     },
     "execution_count": 2,
     "metadata": {},
     "output_type": "execute_result"
    }
   ],
   "source": [
    "nlp_lg = spacy.load(\"en_core_sci_lg\")\n",
    "nlp_lg.add_pipe(\"abbreviation_detector\")\n",
    "nlp_lg.add_pipe(\"scispacy_linker\", config={\"resolve_abbreviations\": True, \"linker_name\": \"umls\", 'filter_for_definitions':False, \"max_entities_per_mention\":100, \"no_definition_threshold\":.7, \"threshold\":0.4})\n",
    "\n",
    "nlp_sm = spacy.load('en_core_sci_sm')\n",
    "nlp_sm.add_pipe(\"abbreviation_detector\")\n",
    "nlp_sm.add_pipe(\"scispacy_linker\", config={\"resolve_abbreviations\": True, \"linker_name\": \"umls\", 'filter_for_definitions':False, \"max_entities_per_mention\":20, \"no_definition_threshold\":.95, \"threshold\":0.9})"
   ]
  },
  {
   "cell_type": "code",
   "execution_count": 19,
   "metadata": {},
   "outputs": [
    {
     "name": "stdout",
     "output_type": "stream",
     "text": [
      "Unexpected exception formatting exception. Falling back to standard exception\n"
     ]
    },
    {
     "name": "stderr",
     "output_type": "stream",
     "text": [
      "Traceback (most recent call last):\n",
      "  File \"/nethome/dkartchner3/conda_envs/contrastive_el/lib/python3.10/site-packages/IPython/core/interactiveshell.py\", line 3460, in run_code\n",
      "    exec(code_obj, self.user_global_ns, self.user_ns)\n",
      "  File \"/tmp/ipykernel_16186/3572589338.py\", line 1, in <module>\n",
      "    nlp_sm = spacy.load('en_core_sci_sm')\n",
      "  File \"/nethome/dkartchner3/conda_envs/contrastive_el/lib/python3.10/site-packages/spacy/__init__.py\", line 51, in load\n",
      "    keyed by section values in dot notation.\n",
      "  File \"/nethome/dkartchner3/conda_envs/contrastive_el/lib/python3.10/site-packages/spacy/util.py\", line 420, in load_model\n",
      "    \"\"\"\n",
      "  File \"/nethome/dkartchner3/conda_envs/contrastive_el/lib/python3.10/site-packages/spacy/util.py\", line 453, in load_model_from_package\n",
      "    name (str): The package name.\n",
      "  File \"/nethome/dkartchner3/conda_envs/contrastive_el/lib/python3.10/site-packages/en_core_sci_sm/__init__.py\", line 10, in load\n",
      "    return load_model_from_init_py(__file__, **overrides)\n",
      "  File \"/nethome/dkartchner3/conda_envs/contrastive_el/lib/python3.10/site-packages/spacy/util.py\", line 615, in load_model_from_init_py\n",
      "    return tuple(output)\n",
      "  File \"/nethome/dkartchner3/conda_envs/contrastive_el/lib/python3.10/site-packages/spacy/util.py\", line 488, in load_model_from_path\n",
      "    disable (Union[str, Iterable[str]]): Name(s) of pipeline component(s) to disable. Disabled\n",
      "  File \"/nethome/dkartchner3/conda_envs/contrastive_el/lib/python3.10/site-packages/spacy/util.py\", line 525, in load_model_from_config\n",
      "    auto_fill: bool = False,\n",
      "  File \"/nethome/dkartchner3/conda_envs/contrastive_el/lib/python3.10/site-packages/spacy/language.py\", line 1782, in from_config\n",
      "    warn_if_jupyter_cupy()\n",
      "  File \"/nethome/dkartchner3/conda_envs/contrastive_el/lib/python3.10/site-packages/spacy/language.py\", line 792, in add_pipe\n",
      "    else:\n",
      "  File \"/nethome/dkartchner3/conda_envs/contrastive_el/lib/python3.10/site-packages/spacy/language.py\", line 674, in create_pipe\n",
      "    config = {\"nlp\": self, \"name\": name, **config, \"@factories\": internal_name}\n",
      "  File \"/nethome/dkartchner3/conda_envs/contrastive_el/lib/python3.10/site-packages/thinc/config.py\", line 746, in resolve\n",
      "  File \"/nethome/dkartchner3/conda_envs/contrastive_el/lib/python3.10/site-packages/thinc/config.py\", line 795, in _make\n",
      "  File \"/nethome/dkartchner3/conda_envs/contrastive_el/lib/python3.10/site-packages/thinc/config.py\", line 850, in _fill\n",
      "  File \"/nethome/dkartchner3/conda_envs/contrastive_el/lib/python3.10/site-packages/thinc/config.py\", line 849, in _fill\n",
      "  File \"/nethome/dkartchner3/conda_envs/contrastive_el/lib/python3.10/site-packages/thinc/config.py\", line 1040, in make_promise_schema\n",
      "  File \"/nethome/dkartchner3/conda_envs/contrastive_el/lib/python3.10/site-packages/spacy/util.py\", line 141, in get\n",
      "    name=func_name, reg_name=registry_name, available=available\n",
      "catalogue.RegistryError: [E893] Could not find function 'spacy.Tagger.v2' in function registry 'architectures'. If you're using a custom function, make sure the code is available. If the function is provided by a third-party package, e.g. spacy-transformers, make sure the package is installed in your environment.\n",
      "\n",
      "Available names: spacy-legacy.CharacterEmbed.v1, spacy-legacy.EntityLinker.v1, spacy-legacy.HashEmbedCNN.v1, spacy-legacy.MaxoutWindowEncoder.v1, spacy-legacy.MishWindowEncoder.v1, spacy-legacy.MultiHashEmbed.v1, spacy-legacy.Tagger.v1, spacy-legacy.TextCatBOW.v1, spacy-legacy.TextCatCNN.v1, spacy-legacy.TextCatEnsemble.v1, spacy-legacy.Tok2Vec.v1, spacy-legacy.TransitionBasedParser.v1, spacy-transformers.Tok2VecTransformer.v1, spacy-transformers.Tok2VecTransformer.v2, spacy-transformers.Tok2VecTransformer.v3, spacy-transformers.TransformerListener.v1, spacy-transformers.TransformerModel.v1, spacy-transformers.TransformerModel.v2, spacy-transformers.TransformerModel.v3, spacy.CharacterEmbed.v2, spacy.EntityLinker.v1, spacy.HashEmbedCNN.v2, spacy.MaxoutWindowEncoder.v2, spacy.MishWindowEncoder.v2, spacy.MultiHashEmbed.v2, spacy.PretrainCharacters.v1, spacy.PretrainVectors.v1, spacy.SpanCategorizer.v1, spacy.Tagger.v1, spacy.TextCatBOW.v2, spacy.TextCatCNN.v2, spacy.TextCatEnsemble.v2, spacy.TextCatLowData.v1, spacy.Tok2Vec.v2, spacy.Tok2VecListener.v1, spacy.TorchBiLSTMEncoder.v1, spacy.TransitionBasedParser.v2\n",
      "\n",
      "During handling of the above exception, another exception occurred:\n",
      "\n",
      "Traceback (most recent call last):\n",
      "  File \"/nethome/dkartchner3/conda_envs/contrastive_el/lib/python3.10/site-packages/IPython/core/interactiveshell.py\", line 2057, in showtraceback\n",
      "    stb = self.InteractiveTB.structured_traceback(\n",
      "  File \"/nethome/dkartchner3/conda_envs/contrastive_el/lib/python3.10/site-packages/IPython/core/ultratb.py\", line 1118, in structured_traceback\n",
      "    return FormattedTB.structured_traceback(\n",
      "  File \"/nethome/dkartchner3/conda_envs/contrastive_el/lib/python3.10/site-packages/IPython/core/ultratb.py\", line 1012, in structured_traceback\n",
      "    return VerboseTB.structured_traceback(\n",
      "  File \"/nethome/dkartchner3/conda_envs/contrastive_el/lib/python3.10/site-packages/IPython/core/ultratb.py\", line 865, in structured_traceback\n",
      "    formatted_exception = self.format_exception_as_a_whole(etype, evalue, etb, number_of_lines_of_context,\n",
      "  File \"/nethome/dkartchner3/conda_envs/contrastive_el/lib/python3.10/site-packages/IPython/core/ultratb.py\", line 818, in format_exception_as_a_whole\n",
      "    frames.append(self.format_record(r))\n",
      "  File \"/nethome/dkartchner3/conda_envs/contrastive_el/lib/python3.10/site-packages/IPython/core/ultratb.py\", line 736, in format_record\n",
      "    result += ''.join(_format_traceback_lines(frame_info.lines, Colors, self.has_colors, lvals))\n",
      "  File \"/nethome/dkartchner3/conda_envs/contrastive_el/lib/python3.10/site-packages/stack_data/utils.py\", line 144, in cached_property_wrapper\n",
      "    value = obj.__dict__[self.func.__name__] = self.func(obj)\n",
      "  File \"/nethome/dkartchner3/conda_envs/contrastive_el/lib/python3.10/site-packages/stack_data/core.py\", line 734, in lines\n",
      "    pieces = self.included_pieces\n",
      "  File \"/nethome/dkartchner3/conda_envs/contrastive_el/lib/python3.10/site-packages/stack_data/utils.py\", line 144, in cached_property_wrapper\n",
      "    value = obj.__dict__[self.func.__name__] = self.func(obj)\n",
      "  File \"/nethome/dkartchner3/conda_envs/contrastive_el/lib/python3.10/site-packages/stack_data/core.py\", line 681, in included_pieces\n",
      "    pos = scope_pieces.index(self.executing_piece)\n",
      "  File \"/nethome/dkartchner3/conda_envs/contrastive_el/lib/python3.10/site-packages/stack_data/utils.py\", line 144, in cached_property_wrapper\n",
      "    value = obj.__dict__[self.func.__name__] = self.func(obj)\n",
      "  File \"/nethome/dkartchner3/conda_envs/contrastive_el/lib/python3.10/site-packages/stack_data/core.py\", line 660, in executing_piece\n",
      "    return only(\n",
      "  File \"/nethome/dkartchner3/conda_envs/contrastive_el/lib/python3.10/site-packages/executing/executing.py\", line 190, in only\n",
      "    raise NotOneValueFound('Expected one value, found 0')\n",
      "executing.executing.NotOneValueFound: Expected one value, found 0\n"
     ]
    }
   ],
   "source": [
    "nlp_sm = spacy.load('en_core_sci_sm')"
   ]
  },
  {
   "cell_type": "code",
   "execution_count": 14,
   "metadata": {},
   "outputs": [],
   "source": [
    "def process_abstract_scispacy(text: str,\n",
    "                    model,\n",
    "                    eps: float=1e-6, \n",
    "                    db_name: str='UMLS',\n",
    "                    thresh=0.99):\n",
    "    '''\n",
    "    SciSpacy processing of a single abstract\n",
    "\n",
    "    We only include confident entities\n",
    "    '''\n",
    "    doc = model(text)\n",
    "    ent_list = []\n",
    "    for ent in doc.ents:\n",
    "        offsets = [(ent.start_char, ent.end_char)]\n",
    "        text = ent.text\n",
    "        candidates = [e[0] for e in ent._.kb_ents if e[1] > thresh]\n",
    "\n",
    "        if len(candidates) != 1:\n",
    "            continue\n",
    "        \n",
    "        ent_list.append({\n",
    "            \"offsets\":offsets, \n",
    "            \"cui\": candidates[0], \n",
    "            })\n",
    "    return ent_list"
   ]
  },
  {
   "cell_type": "code",
   "execution_count": 5,
   "metadata": {},
   "outputs": [],
   "source": [
    "dict_outputs = pp.parse_medline_xml('/mitchell/nlp_corpora/pubmed/pubmed23n0001.xml.gz')\n",
    "len(dict_outputs)"
   ]
  },
  {
   "cell_type": "code",
   "execution_count": 11,
   "metadata": {},
   "outputs": [],
   "source": [
    "abstract_chunk = dict_outputs"
   ]
  },
  {
   "cell_type": "code",
   "execution_count": 9,
   "metadata": {},
   "outputs": [
    {
     "data": {
      "text/plain": [
       "15377"
      ]
     },
     "execution_count": 9,
     "metadata": {},
     "output_type": "execute_result"
    }
   ],
   "source": [
    "filtered_abstracts = [x for x in dict_outputs if len(x['abstract']) > 50]\n",
    "len(filtered_abstracts)"
   ]
  },
  {
   "cell_type": "code",
   "execution_count": 15,
   "metadata": {},
   "outputs": [
    {
     "name": "stderr",
     "output_type": "stream",
     "text": [
      "100%|██████████| 30000/30000 [17:25<00:00, 28.70it/s]  \n"
     ]
    }
   ],
   "source": [
    "all_processed_abstracts = []\n",
    "excluded_pmids = []\n",
    "i = 0\n",
    "pmid_to_ind = {}\n",
    "pmcid_to_ind = {}\n",
    "\n",
    "for a in tqdm(abstract_chunk):\n",
    "    if len(a['abstract']) < 50:\n",
    "        excluded_pmids.append(a['pmid'])\n",
    "        continue\n",
    "    pmid_to_ind[a['pmid']] = i\n",
    "    title = a['title'].strip()\n",
    "    abstract = a['abstract'].strip()\n",
    "    text = title + '\\n' + abstract\n",
    "    entities = process_abstract_scispacy(text, nlp_lg)\n",
    "    output = {\n",
    "        'pmid': a['pmid'],\n",
    "        'title': title,\n",
    "        'abstract': abstract,\n",
    "        'entities': entities,\n",
    "    }\n",
    "    all_processed_abstracts.append(output)\n",
    "    i += 1\n"
   ]
  },
  {
   "cell_type": "code",
   "execution_count": null,
   "metadata": {},
   "outputs": [],
   "source": []
  }
 ],
 "metadata": {
  "kernelspec": {
   "display_name": "contrastive_el",
   "language": "python",
   "name": "python3"
  },
  "language_info": {
   "codemirror_mode": {
    "name": "ipython",
    "version": 3
   },
   "file_extension": ".py",
   "mimetype": "text/x-python",
   "name": "python",
   "nbconvert_exporter": "python",
   "pygments_lexer": "ipython3",
   "version": "3.10.9"
  },
  "orig_nbformat": 4,
  "vscode": {
   "interpreter": {
    "hash": "b16c27206cccff14c42a6c7398da1e186622dd45db910dc4e1cb78a6bcc1d893"
   }
  }
 },
 "nbformat": 4,
 "nbformat_minor": 2
}

{
 "cells": [
  {
   "cell_type": "code",
   "execution_count": null,
   "metadata": {},
   "outputs": [],
   "source": [
    "%load_ext autoreload\n",
    "%autoreload 2\n",
    "\n",
    "from bigbio.dataloader import BigBioConfigHelpers\n",
    "from tqdm import tqdm\n",
    "from collections import defaultdict\n",
    "\n",
    "conhelps = BigBioConfigHelpers()\n",
    "\n"
   ]
  },
  {
   "cell_type": "markdown",
   "metadata": {},
   "source": [
    "## Get text of all articles for abbreviation detection"
   ]
  },
  {
   "cell_type": "code",
   "execution_count": 4,
   "metadata": {},
   "outputs": [
    {
     "data": {
      "application/vnd.jupyter.widget-view+json": {
       "model_id": "89f114e3ac1b4d8bafaf38f77e283663",
       "version_major": 2,
       "version_minor": 0
      },
      "text/plain": [
       "  0%|          | 0/6 [00:00<?, ?it/s]"
      ]
     },
     "metadata": {},
     "output_type": "display_data"
    },
    {
     "name": "stderr",
     "output_type": "stream",
     "text": [
      "Reusing dataset medmentions (/home/dkartchner3/.cache/huggingface/datasets/medmentions/medmentions_full_bigbio_kb/1.0.0/3fc6b8a3681d540ae6c7497c238636b543b90764247b5ff3642d243474000794)\n"
     ]
    },
    {
     "data": {
      "application/vnd.jupyter.widget-view+json": {
       "model_id": "80929957ed044bcbbb81d6bc0f37e3f1",
       "version_major": 2,
       "version_minor": 0
      },
      "text/plain": [
       "  0%|          | 0/3 [00:00<?, ?it/s]"
      ]
     },
     "metadata": {},
     "output_type": "display_data"
    },
    {
     "name": "stderr",
     "output_type": "stream",
     "text": [
      "Reusing dataset bc5cdr (/home/dkartchner3/.cache/huggingface/datasets/bc5cdr/bc5cdr_bigbio_kb/1.0.0/f01f16ea9b65ead985bedadf7335195c32297c8f1b09417fc607b102a6757d6f)\n"
     ]
    },
    {
     "data": {
      "application/vnd.jupyter.widget-view+json": {
       "model_id": "4d7f80646ddf44c8a5902c413b028c6d",
       "version_major": 2,
       "version_minor": 0
      },
      "text/plain": [
       "  0%|          | 0/3 [00:00<?, ?it/s]"
      ]
     },
     "metadata": {},
     "output_type": "display_data"
    },
    {
     "name": "stderr",
     "output_type": "stream",
     "text": [
      "Reusing dataset gnormplus (/home/dkartchner3/.cache/huggingface/datasets/gnormplus/gnormplus_bigbio_kb/1.0.0/a07d375cacec149beba70fa6c1ea3ac78628e6652dca5345f3478354e8c0ae96)\n"
     ]
    },
    {
     "data": {
      "application/vnd.jupyter.widget-view+json": {
       "model_id": "c2017694de984983beb77ed204b491de",
       "version_major": 2,
       "version_minor": 0
      },
      "text/plain": [
       "  0%|          | 0/2 [00:00<?, ?it/s]"
      ]
     },
     "metadata": {},
     "output_type": "display_data"
    },
    {
     "name": "stderr",
     "output_type": "stream",
     "text": [
      "Reusing dataset ncbi_disease (/home/dkartchner3/.cache/huggingface/datasets/ncbi_disease/ncbi_disease_bigbio_kb/1.0.0/91a4f7ea79a8b89806de2cefa4fcca8cd4a7495e2cfeb9c28a8d68c51f7eac8b)\n"
     ]
    },
    {
     "data": {
      "application/vnd.jupyter.widget-view+json": {
       "model_id": "a874e3db33524613b9641dedcb0da365",
       "version_major": 2,
       "version_minor": 0
      },
      "text/plain": [
       "  0%|          | 0/3 [00:00<?, ?it/s]"
      ]
     },
     "metadata": {},
     "output_type": "display_data"
    },
    {
     "name": "stderr",
     "output_type": "stream",
     "text": [
      "Reusing dataset nlmchem (/home/dkartchner3/.cache/huggingface/datasets/nlmchem/nlmchem_bigbio_kb/1.0.0/d91131823c66b7dd1162027991ea47c342e478209b37cf261c5f122d30409594)\n"
     ]
    },
    {
     "data": {
      "application/vnd.jupyter.widget-view+json": {
       "model_id": "7ac1a7f11fbf4690b67056cefc7dc7b6",
       "version_major": 2,
       "version_minor": 0
      },
      "text/plain": [
       "  0%|          | 0/3 [00:00<?, ?it/s]"
      ]
     },
     "metadata": {},
     "output_type": "display_data"
    },
    {
     "name": "stderr",
     "output_type": "stream",
     "text": [
      "Reusing dataset nlm_gene (/home/dkartchner3/.cache/huggingface/datasets/nlm_gene/nlm_gene_bigbio_kb/1.0.0/961ce939e0f3a3315d6a179b7afa33173e73bcb3d781a26c058484fbb1a944ca)\n"
     ]
    },
    {
     "data": {
      "application/vnd.jupyter.widget-view+json": {
       "model_id": "9602426c0ff547ab938934237827dab6",
       "version_major": 2,
       "version_minor": 0
      },
      "text/plain": [
       "  0%|          | 0/2 [00:00<?, ?it/s]"
      ]
     },
     "metadata": {},
     "output_type": "display_data"
    }
   ],
   "source": [
    "output_path = '../data/all_article_text.txt'\n",
    "\n",
    "all_pmids = set([])\n",
    "all_full_text = defaultdict(set)\n",
    "total_docs = 0\n",
    "\n",
    "\n",
    "for dataset in tqdm(['medmentions_full','bc5cdr','gnormplus','ncbi_disease','nlmchem','nlm_gene']):\n",
    "    data = conhelps.for_config_name(f\"{dataset}_bigbio_kb\").load_dataset()\n",
    "    for split in data.keys():\n",
    "        for doc in data[split]:\n",
    "            pmid = doc[\"document_id\"]\n",
    "            if pmid in all_pmids:\n",
    "                continue\n",
    "            \n",
    "            all_pmids.add(pmid)\n",
    "            doc_text = ' '.join([' '.join(p['text']) for p in doc['passages']])\n",
    "            all_full_text[pmid].add(doc_text)\n",
    "\n",
    "\n",
    "# # PlantNorm\n",
    "# print(\"Running Plant Norm\")\n",
    "# for subset in ['training','test','development']:\n",
    "#     with open(f'/Users/david/Downloads/DMCB_plant_{subset}_corpus.txt', 'r', encoding='utf-8', errors='ignore') as g:\n",
    "#         all_text = g.read()\n",
    "#         abstracts = all_text.strip().split('\\n\\n')\n",
    "#         abstract_lines = [x.split('\\n') for x in abstracts]\n",
    "#         for abs in tqdm(abstract_lines):\n",
    "#             pmid = abs[0].split('|')[0]\n",
    "#             if pmid in all_pmids:\n",
    "#                 continue\n",
    "#             if len(abs[0].split('|')) == 1:\n",
    "#                 abs.pop(0)\n",
    "#             title = abs[0].split('|')[1]\n",
    "#             abs_text = abs[1].split('|')[1]\n",
    "#             doc_text = ' '.join([title, abs_text])\n",
    "\n",
    "#             all_pmids.add(pmid)\n",
    "#             all_full_text[pmid].add(doc_text)\n",
    "\n"
   ]
  },
  {
   "cell_type": "code",
   "execution_count": 7,
   "metadata": {},
   "outputs": [],
   "source": [
    "output_path = '../data/all_article_text.txt'\n",
    "\n",
    "# Remove newlines that will interfere with Ab3P\n",
    "for pmid, text_set in all_full_text.items():\n",
    "    text = list(text_set)[0]\n",
    "    if '\\n' in text:\n",
    "        print(pmid)\n",
    "    all_full_text[pmid] = text.replace('\\n', ' ')\n",
    "\n",
    "# Write output to file\n",
    "with open(output_path, 'w') as f:\n",
    "    output = '\\n\\n'.join([pmid + ' | ' + doc_text for pmid, doc_text in all_full_text.items()])\n",
    "    f.write(output)\n"
   ]
  },
  {
   "cell_type": "code",
   "execution_count": 22,
   "metadata": {},
   "outputs": [
    {
     "name": "stderr",
     "output_type": "stream",
     "text": [
      "Reusing dataset ncbi_disease_dataset (/Users/david/.cache/huggingface/datasets/ncbi_disease_dataset/ncbi_disease_bigbio_kb/1.0.0/af212b7625186c649ff9fe74c4cb38f77f050e42b8817f59a134d8a8051b3566)\n",
      "100%|██████████| 3/3 [00:00<00:00, 630.37it/s]\n"
     ]
    }
   ],
   "source": [
    "dataset = 'ncbi_disease'\n",
    "data = conhelps.for_config_name(f\"{dataset}_bigbio_kb\").load_dataset()"
   ]
  },
  {
   "cell_type": "code",
   "execution_count": 24,
   "metadata": {},
   "outputs": [
    {
     "data": {
      "text/plain": [
       "[{'id': '10196379_D010051_0',\n",
       "  'type': 'Modifier',\n",
       "  'text': ['ovarian cancer'],\n",
       "  'offsets': [[59, 73]],\n",
       "  'normalized': [{'db_name': 'MESH', 'db_id': 'D010051'}]},\n",
       " {'id': '10196379_D001943_1',\n",
       "  'type': 'Modifier',\n",
       "  'text': ['breast cancer'],\n",
       "  'offsets': [[161, 174]],\n",
       "  'normalized': [{'db_name': 'MESH', 'db_id': 'D001943'}]},\n",
       " {'id': '10196379_D010051_2',\n",
       "  'type': 'Modifier',\n",
       "  'text': ['ovarian cancer'],\n",
       "  'offsets': [[233, 247]],\n",
       "  'normalized': [{'db_name': 'MESH', 'db_id': 'D010051'}]},\n",
       " {'id': '10196379_D010051_3',\n",
       "  'type': 'Modifier',\n",
       "  'text': ['ovarian cancer'],\n",
       "  'offsets': [[371, 385]],\n",
       "  'normalized': [{'db_name': 'MESH', 'db_id': 'D010051'}]},\n",
       " {'id': '10196379_D010051_4',\n",
       "  'type': 'Modifier',\n",
       "  'text': ['ovarian cancer'],\n",
       "  'offsets': [[428, 442]],\n",
       "  'normalized': [{'db_name': 'MESH', 'db_id': 'D010051'}]},\n",
       " {'id': '10196379_D010051_5',\n",
       "  'type': 'Modifier',\n",
       "  'text': ['ovarian cancer'],\n",
       "  'offsets': [[564, 578]],\n",
       "  'normalized': [{'db_name': 'MESH', 'db_id': 'D010051'}]},\n",
       " {'id': '10196379_D001943|D010051_6',\n",
       "  'type': 'CompositeMention',\n",
       "  'text': ['breast or ovarian cancer'],\n",
       "  'offsets': [[796, 820]],\n",
       "  'normalized': [{'db_name': 'MESH', 'db_id': 'D001943'},\n",
       "   {'db_name': 'MESH', 'db_id': 'D010051'}]},\n",
       " {'id': '10196379_D009369_7',\n",
       "  'type': 'DiseaseClass',\n",
       "  'text': ['cancer'],\n",
       "  'offsets': [[969, 975]],\n",
       "  'normalized': [{'db_name': 'MESH', 'db_id': 'D009369'}]},\n",
       " {'id': '10196379_D009369_8',\n",
       "  'type': 'Modifier',\n",
       "  'text': ['cancer'],\n",
       "  'offsets': [[1063, 1069]],\n",
       "  'normalized': [{'db_name': 'MESH', 'db_id': 'D009369'}]},\n",
       " {'id': '10196379_D010051_9',\n",
       "  'type': 'SpecificDisease',\n",
       "  'text': ['ovarian cancer'],\n",
       "  'offsets': [[1257, 1271]],\n",
       "  'normalized': [{'db_name': 'MESH', 'db_id': 'D010051'}]},\n",
       " {'id': '10196379_D010051_10',\n",
       "  'type': 'Modifier',\n",
       "  'text': ['ovarian cancer'],\n",
       "  'offsets': [[1321, 1335]],\n",
       "  'normalized': [{'db_name': 'MESH', 'db_id': 'D010051'}]},\n",
       " {'id': '10196379_D010051_11',\n",
       "  'type': 'Modifier',\n",
       "  'text': ['ovarian cancer'],\n",
       "  'offsets': [[1459, 1473]],\n",
       "  'normalized': [{'db_name': 'MESH', 'db_id': 'D010051'}]}]"
      ]
     },
     "execution_count": 24,
     "metadata": {},
     "output_type": "execute_result"
    }
   ],
   "source": [
    "data['train'][2]['entities']"
   ]
  },
  {
   "cell_type": "code",
   "execution_count": null,
   "metadata": {},
   "outputs": [],
   "source": []
  }
 ],
 "metadata": {
  "interpreter": {
   "hash": "b8f429b760dbf9b012b3ac69bc0c20ad885147b11fe7d141cd50535b2d760548"
  },
  "kernelspec": {
   "display_name": "Python 3.9.13 ('el-robustness')",
   "language": "python",
   "name": "python3"
  },
  "language_info": {
   "codemirror_mode": {
    "name": "ipython",
    "version": 3
   },
   "file_extension": ".py",
   "mimetype": "text/x-python",
   "name": "python",
   "nbconvert_exporter": "python",
   "pygments_lexer": "ipython3",
   "version": "3.9.13"
  },
  "orig_nbformat": 4,
  "vscode": {
   "interpreter": {
    "hash": "a5203b99a4aae64bb8f2d1e38b09bc6de956cbb67603af2b36e9f2835c9586bb"
   }
  }
 },
 "nbformat": 4,
 "nbformat_minor": 2
}

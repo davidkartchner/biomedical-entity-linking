{
 "cells": [
  {
   "cell_type": "code",
   "execution_count": 11,
   "metadata": {},
   "outputs": [],
   "source": [
    "import requests\n",
    "import time\n",
    "\n",
    "import ujson\n",
    "import pandas as pd\n",
    "\n",
    "from bigbio.dataloader import BigBioConfigHelpers\n",
    "from tqdm import tqdm, trange\n",
    "from collections import defaultdict\n",
    "\n",
    "conhelps = BigBioConfigHelpers()\n",
    "\n"
   ]
  },
  {
   "cell_type": "code",
   "execution_count": 106,
   "metadata": {},
   "outputs": [],
   "source": [
    "\n",
    "def query_pmid(pmids, url=\"http://bern2.korea.ac.kr/pubmed\"):\n",
    "    request_object =  requests.get(url + \"/\" + \",\".join(pmids))\n",
    "    # print(request_object.status_code)\n",
    "    # print(request_object.reason)\n",
    "    return request_object.json()\n",
    "\n",
    "def check_query_status(pmids, url=\"http://bern2.korea.ac.kr/pubmed\"):\n",
    "    return requests.get(url + \"/\" + \",\".join(pmids)).status_code == 200\n",
    "\n",
    "\n",
    "def query_plain(text, url=\"http://bern2.korea.ac.kr/plain\"):\n",
    "    return requests.post(url, json={\"text\": text}).json()\n",
    "\n",
    "\n",
    "def retrieve_pmid_list(pmid_list, chunksize=900, sleep_interval=100, pmids_to_omit=[]):\n",
    "    all_retrieved_documents = []\n",
    "    pmid_list = [x for x in pmid_list if x not in pmids_to_omit]\n",
    "    for i in trange(len(pmid_list) // chunksize + 1):\n",
    "        pmid_chunk = pmid_list[i * chunksize : (i + 1) * chunksize]\n",
    "        retrieved_docs = query_pmid(pmid_chunk)\n",
    "        if len(retrieved_docs) == 0:\n",
    "            print(\"Error on PMIDS:\", pmid_chunk)\n",
    "        all_retrieved_documents.extend(retrieved_docs)\n",
    "        time.sleep(sleep_interval)\n",
    "\n",
    "    return all_retrieved_documents\n",
    "\n",
    "\n",
    "def retrieve_full_text_documents(all_full_text_dict, chunksize=20, sleep_interval=10, pmids_to_pull=None):\n",
    "    all_annotations = []\n",
    "    chunk_iter = 0\n",
    "    for pmid, doc in tqdm(all_full_text_dict.items()):\n",
    "        if pmids_to_pull is not None:\n",
    "            if pmid not in pmids_to_pull:\n",
    "                continue\n",
    "        if chunk_iter == chunksize:\n",
    "            time.sleep(sleep_interval)\n",
    "            chunk_iter = 0\n",
    "        annotations = query_plain(doc)\n",
    "        if len(annotations) == 0:\n",
    "            print(\"Error for PMID:\", pmid)\n",
    "        annotations[\"document_id\"] = pmid\n",
    "        all_annotations.append(annotations)\n",
    "        chunk_iter += 1\n",
    "\n",
    "    return all_annotations\n",
    "\n"
   ]
  },
  {
   "cell_type": "code",
   "execution_count": 13,
   "metadata": {},
   "outputs": [
    {
     "name": "stderr",
     "output_type": "stream",
     "text": [
      "  0%|          | 0/6 [00:00<?, ?it/s]Found cached dataset medmentions (/nethome/dkartchner3/.cache/huggingface/datasets/bigbio___medmentions/medmentions_full_bigbio_kb/1.0.0/4ed5b6a69d807969022e559198c5a7386b9a978268a558758a090db6b451d6c4)\n"
     ]
    },
    {
     "data": {
      "application/json": {
       "ascii": false,
       "bar_format": null,
       "colour": null,
       "elapsed": 0.015067100524902344,
       "initial": 0,
       "n": 0,
       "ncols": null,
       "nrows": null,
       "postfix": null,
       "prefix": "",
       "rate": null,
       "total": 3,
       "unit": "it",
       "unit_divisor": 1000,
       "unit_scale": false
      },
      "application/vnd.jupyter.widget-view+json": {
       "model_id": "ef5729c0352a411bb4fbeda6b76bd3f5",
       "version_major": 2,
       "version_minor": 0
      },
      "text/plain": [
       "  0%|          | 0/3 [00:00<?, ?it/s]"
      ]
     },
     "metadata": {},
     "output_type": "display_data"
    },
    {
     "name": "stderr",
     "output_type": "stream",
     "text": [
      " 17%|█▋        | 1/6 [00:08<00:40,  8.18s/it]Found cached dataset bc5cdr (/nethome/dkartchner3/.cache/huggingface/datasets/bigbio___bc5cdr/bc5cdr_bigbio_kb/1.0.0/68f03988d9e501c974d9f9987183bf06474858d1318ed0d4e51cfc4584f0f51f)\n"
     ]
    },
    {
     "data": {
      "application/json": {
       "ascii": false,
       "bar_format": null,
       "colour": null,
       "elapsed": 0.01574230194091797,
       "initial": 0,
       "n": 0,
       "ncols": null,
       "nrows": null,
       "postfix": null,
       "prefix": "",
       "rate": null,
       "total": 3,
       "unit": "it",
       "unit_divisor": 1000,
       "unit_scale": false
      },
      "application/vnd.jupyter.widget-view+json": {
       "model_id": "461e70fdfb9041f1b484ee386dcc04e3",
       "version_major": 2,
       "version_minor": 0
      },
      "text/plain": [
       "  0%|          | 0/3 [00:00<?, ?it/s]"
      ]
     },
     "metadata": {},
     "output_type": "display_data"
    },
    {
     "name": "stderr",
     "output_type": "stream",
     "text": [
      " 33%|███▎      | 2/6 [00:10<00:18,  4.71s/it]Found cached dataset gnormplus (/nethome/dkartchner3/.cache/huggingface/datasets/bigbio___gnormplus/gnormplus_bigbio_kb/1.0.0/97a2714b58185305591c949b067cea2febfca2447016096c3d08021d84bf7b69)\n"
     ]
    },
    {
     "data": {
      "application/json": {
       "ascii": false,
       "bar_format": null,
       "colour": null,
       "elapsed": 0.016670942306518555,
       "initial": 0,
       "n": 0,
       "ncols": null,
       "nrows": null,
       "postfix": null,
       "prefix": "",
       "rate": null,
       "total": 2,
       "unit": "it",
       "unit_divisor": 1000,
       "unit_scale": false
      },
      "application/vnd.jupyter.widget-view+json": {
       "model_id": "6318721cf2a04b3e91c68f75db24163f",
       "version_major": 2,
       "version_minor": 0
      },
      "text/plain": [
       "  0%|          | 0/2 [00:00<?, ?it/s]"
      ]
     },
     "metadata": {},
     "output_type": "display_data"
    },
    {
     "name": "stderr",
     "output_type": "stream",
     "text": [
      " 50%|█████     | 3/6 [00:11<00:09,  3.20s/it]Found cached dataset ncbi_disease (/nethome/dkartchner3/.cache/huggingface/datasets/bigbio___ncbi_disease/ncbi_disease_bigbio_kb/1.0.0/5f3bb3f460b7487dc6d28ec539d7d7cd7d717705ff58314672581cab8e1d9957)\n"
     ]
    },
    {
     "data": {
      "application/json": {
       "ascii": false,
       "bar_format": null,
       "colour": null,
       "elapsed": 0.015076875686645508,
       "initial": 0,
       "n": 0,
       "ncols": null,
       "nrows": null,
       "postfix": null,
       "prefix": "",
       "rate": null,
       "total": 3,
       "unit": "it",
       "unit_divisor": 1000,
       "unit_scale": false
      },
      "application/vnd.jupyter.widget-view+json": {
       "model_id": "c358c42cd57c40f7839e4bdf5087ba4b",
       "version_major": 2,
       "version_minor": 0
      },
      "text/plain": [
       "  0%|          | 0/3 [00:00<?, ?it/s]"
      ]
     },
     "metadata": {},
     "output_type": "display_data"
    },
    {
     "name": "stderr",
     "output_type": "stream",
     "text": [
      " 67%|██████▋   | 4/6 [00:13<00:04,  2.45s/it]Found cached dataset nlmchem (/nethome/dkartchner3/.cache/huggingface/datasets/bigbio___nlmchem/nlmchem_bigbio_kb/1.0.0/66bcefa38a4fe5d4ba1a0993a516040bad028699fbe3ef935f95532596668131)\n"
     ]
    },
    {
     "data": {
      "application/json": {
       "ascii": false,
       "bar_format": null,
       "colour": null,
       "elapsed": 0.02876567840576172,
       "initial": 0,
       "n": 0,
       "ncols": null,
       "nrows": null,
       "postfix": null,
       "prefix": "",
       "rate": null,
       "total": 3,
       "unit": "it",
       "unit_divisor": 1000,
       "unit_scale": false
      },
      "application/vnd.jupyter.widget-view+json": {
       "model_id": "57717427f7734f2e99f4ca733b766fb7",
       "version_major": 2,
       "version_minor": 0
      },
      "text/plain": [
       "  0%|          | 0/3 [00:00<?, ?it/s]"
      ]
     },
     "metadata": {},
     "output_type": "display_data"
    },
    {
     "name": "stderr",
     "output_type": "stream",
     "text": [
      " 83%|████████▎ | 5/6 [00:14<00:02,  2.15s/it]Found cached dataset nlm_gene (/nethome/dkartchner3/.cache/huggingface/datasets/bigbio___nlm_gene/nlm_gene_bigbio_kb/1.0.0/71526324bb52d82b3917dfc7c9b76f3bac4fb0d86d98c5c2e29951b8cee0e24f)\n"
     ]
    },
    {
     "data": {
      "application/json": {
       "ascii": false,
       "bar_format": null,
       "colour": null,
       "elapsed": 0.015960693359375,
       "initial": 0,
       "n": 0,
       "ncols": null,
       "nrows": null,
       "postfix": null,
       "prefix": "",
       "rate": null,
       "total": 2,
       "unit": "it",
       "unit_divisor": 1000,
       "unit_scale": false
      },
      "application/vnd.jupyter.widget-view+json": {
       "model_id": "efd3757a48ed4c4789680b5e871a57ad",
       "version_major": 2,
       "version_minor": 0
      },
      "text/plain": [
       "  0%|          | 0/2 [00:00<?, ?it/s]"
      ]
     },
     "metadata": {},
     "output_type": "display_data"
    },
    {
     "name": "stderr",
     "output_type": "stream",
     "text": [
      "100%|██████████| 6/6 [00:15<00:00,  2.63s/it]\n"
     ]
    }
   ],
   "source": [
    "\n",
    "all_pmids = set([])\n",
    "all_full_text = defaultdict(str)\n",
    "total_docs = 0\n",
    "\n",
    "\n",
    "for dataset in tqdm(\n",
    "    [\"medmentions_full\", \"bc5cdr\", \"gnormplus\", \"ncbi_disease\", \"nlmchem\", \"nlm_gene\"]\n",
    "):\n",
    "    data = conhelps.for_config_name(f\"{dataset}_bigbio_kb\").load_dataset()\n",
    "    for split in data.keys():\n",
    "        for doc in data[split]:\n",
    "            pmid = doc[\"document_id\"]\n",
    "            if pmid in all_pmids:\n",
    "                continue\n",
    "\n",
    "            all_pmids.add(pmid)\n",
    "            doc_text = \" \".join([\" \".join(p[\"text\"]) for p in doc[\"passages\"]])\n",
    "            all_full_text[pmid] = doc_text\n",
    "\n",
    "\n",
    "# # PlantNorm\n",
    "# print(\"Running Plant Norm\")\n",
    "# for subset in ['training','test','development']:\n",
    "#     with open(f'../../PPRcorpus/corpus/DMCB_plant_{subset}_corpus.txt', 'r', encoding='utf-8', errors='ignore') as g:\n",
    "#         all_text = g.read()\n",
    "#         abstracts = all_text.strip().split('\\n\\n')\n",
    "#         abstract_lines = [x.split('\\n') for x in abstracts]\n",
    "#         for abs in tqdm(abstract_lines):\n",
    "#             pmid = abs[0].split('|')[0]\n",
    "#             if pmid in all_pmids:\n",
    "#                 continue\n",
    "#             if len(abs[0].split('|')) == 1:\n",
    "#                 abs.pop(0)\n",
    "#             title = abs[0].split('|')[1]\n",
    "#             abs_text = abs[1].split('|')[1]\n",
    "#             doc_text = ' '.join([title, abs_text])\n",
    "\n",
    "#             all_pmids.add(pmid)\n",
    "#             all_full_text[pmid].add(doc_text)\n",
    "\n",
    "\n",
    "all_pmids = list(all_pmids)\n"
   ]
  },
  {
   "cell_type": "code",
   "execution_count": 90,
   "metadata": {},
   "outputs": [
    {
     "name": "stdout",
     "output_type": "stream",
     "text": [
      "907\n",
      "1029\n",
      "1730\n",
      "1899\n",
      "2108\n",
      "2555\n",
      "3139\n",
      "3355\n",
      "3393\n",
      "3673\n",
      "3950\n",
      "4097\n",
      "4431\n",
      "4461\n",
      "4508\n",
      "4781\n",
      "4784\n",
      "5192\n",
      "5321\n",
      "5834\n",
      "6009\n",
      "6423\n",
      "6599\n",
      "6764\n",
      "6891\n",
      "6926\n",
      "7273\n",
      "7681\n",
      "7993\n",
      "8016\n",
      "-1\n"
     ]
    }
   ],
   "source": [
    "def find_lowest_failing_index(pmid_list, min_ind, max_ind):\n",
    "    if check_query_status(pmid_list[min_ind:max_ind]):\n",
    "        return -1\n",
    "    while min_ind < max_ind - 1:\n",
    "        mid = (max_ind + min_ind) // 2\n",
    "        if check_query_status(pmid_list[min_ind:mid]):\n",
    "            min_ind = mid\n",
    "        else: \n",
    "            max_ind = mid\n",
    "\n",
    "    return min_ind\n",
    "        \n",
    "\n",
    "\n",
    "def multielement_binary_search(pmid_list, min_ind=0, ):\n",
    "    '''\n",
    "    Find PMIDS that should be omitted from BERN2 search\n",
    "    '''\n",
    "    pmids_to_omit=[]\n",
    "    max_ind = len(pmid_list)\n",
    "    \n",
    "    while min_ind < max_ind - 1:\n",
    "        failure_ind = find_lowest_failing_index(pmid_list, min_ind, max_ind)\n",
    "        print(failure_ind)\n",
    "        if failure_ind == -1:\n",
    "            break\n",
    "        pmids_to_omit.append(failure_ind)\n",
    "        min_ind = failure_ind + 1\n",
    "    return pmids_to_omit\n",
    "\n",
    "# find_lowest_failing_index(all_pmids, 900, 1000)\n",
    "inds_to_exclude = multielement_binary_search(all_pmids)"
   ]
  },
  {
   "cell_type": "code",
   "execution_count": 95,
   "metadata": {},
   "outputs": [
    {
     "data": {
      "text/plain": [
       "8073"
      ]
     },
     "execution_count": 95,
     "metadata": {},
     "output_type": "execute_result"
    }
   ],
   "source": [
    "pmids_to_omit = [all_pmids[x] for x in inds_to_exclude]\n",
    "nonexcluded_pmids = [x for i, x in enumerate(all_pmids) if i not in inds_to_exclude]\n",
    "len(nonexcluded_pmids)"
   ]
  },
  {
   "cell_type": "code",
   "execution_count": 57,
   "metadata": {},
   "outputs": [],
   "source": [
    "len(out)\n"
   ]
  },
  {
   "cell_type": "code",
   "execution_count": 98,
   "metadata": {},
   "outputs": [],
   "source": [
    "\n",
    "pulled_pubmed_docs = retrieve_pmid_list(all_pmids, sleep_interval=0, pmids_to_omit=pmids_to_omit)\n",
    "with open(\"../data/bern2_annotations_from_pmids.json\", \"w\") as f:\n",
    "    f.write(ujson.dumps(pulled_pubmed_docs, indent=2))\n"
   ]
  },
  {
   "cell_type": "code",
   "execution_count": 103,
   "metadata": {},
   "outputs": [],
   "source": [
    "pulled_pubmed_docs = pulled_pmids"
   ]
  },
  {
   "cell_type": "code",
   "execution_count": 104,
   "metadata": {},
   "outputs": [
    {
     "data": {
      "text/plain": [
       "7914"
      ]
     },
     "execution_count": 104,
     "metadata": {},
     "output_type": "execute_result"
    }
   ],
   "source": [
    "pulled_pmids = [x['_id'] for x in pulled_pubmed_docs if len(x['annotations']) > 0]\n",
    "len(pulled_pmids)"
   ]
  },
  {
   "cell_type": "code",
   "execution_count": 105,
   "metadata": {},
   "outputs": [],
   "source": [
    "\n",
    "unpulled_pmids = [x for x in all_pmids if x not in pulled_pmids]"
   ]
  },
  {
   "cell_type": "code",
   "execution_count": 108,
   "metadata": {},
   "outputs": [
    {
     "name": "stderr",
     "output_type": "stream",
     "text": [
      "100%|██████████| 8073/8073 [14:45<00:00,  9.12it/s]  \n"
     ]
    }
   ],
   "source": [
    "pulled_full_text = retrieve_full_text_documents(all_full_text, pmids_to_pull=unpulled_pmids, sleep_interval=100)\n",
    "with open(\"../data/bern2_annotations_from_full_text.json\", \"w\") as f:\n",
    "    f.write(ujson.dumps(pulled_full_text, indent=2))\n"
   ]
  },
  {
   "cell_type": "code",
   "execution_count": null,
   "metadata": {},
   "outputs": [],
   "source": []
  }
 ],
 "metadata": {
  "kernelspec": {
   "display_name": "el-robustness",
   "language": "python",
   "name": "python3"
  },
  "language_info": {
   "codemirror_mode": {
    "name": "ipython",
    "version": 3
   },
   "file_extension": ".py",
   "mimetype": "text/x-python",
   "name": "python",
   "nbconvert_exporter": "python",
   "pygments_lexer": "ipython3",
   "version": "3.9.16"
  },
  "orig_nbformat": 4,
  "vscode": {
   "interpreter": {
    "hash": "b8f429b760dbf9b012b3ac69bc0c20ad885147b11fe7d141cd50535b2d760548"
   }
  }
 },
 "nbformat": 4,
 "nbformat_minor": 2
}

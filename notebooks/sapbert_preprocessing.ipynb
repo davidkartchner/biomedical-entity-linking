{
 "cells": [
  {
   "cell_type": "code",
   "execution_count": 1,
   "metadata": {},
   "outputs": [],
   "source": [
    "import numpy as np\n",
    "import pandas as pd\n",
    "from bigbio.dataloader import BigBioConfigHelpers"
   ]
  },
  {
   "cell_type": "code",
   "execution_count": 3,
   "metadata": {},
   "outputs": [],
   "source": [
    "st21pv_sources = ['CPT','FMA','GO','HGNC','ICD10','ICD10CM','ICD9CM','MDR','MSH','MTH','NCBI','NCI','NDDF','NDFRT','OMIM','RXNORM','SNOMEDCT_US']\n",
    "col_names = ['cui','lang','term_status','lui','stt','sui','ispref','aui','saui','scui','sdui','sab','tti','code','alias','srl','suppress','cvf','null_col']\n",
    "df = pd.read_csv('/efs/davidkartchner/2022AA/META/MRCONSO.RRF', delimiter='|', names=col_names, usecols=['cui','lang','sab','alias'])"
   ]
  },
  {
   "cell_type": "code",
   "execution_count": 8,
   "metadata": {},
   "outputs": [
    {
     "data": {
      "text/plain": [
       "cui       0\n",
       "lang      0\n",
       "sab       0\n",
       "alias    24\n",
       "dtype: int64"
      ]
     },
     "execution_count": 8,
     "metadata": {},
     "output_type": "execute_result"
    }
   ],
   "source": []
  },
  {
   "cell_type": "code",
   "execution_count": 9,
   "metadata": {},
   "outputs": [],
   "source": [
    "eng_filtered = df.query('lang == \"ENG\"').dropna()\n",
    "eng_filtered['alias'] = eng_filtered.alias.map(lambda x: x.lower())"
   ]
  },
  {
   "cell_type": "code",
   "execution_count": 10,
   "metadata": {},
   "outputs": [
    {
     "ename": "TypeError",
     "evalue": "'tuple' object is not callable",
     "output_type": "error",
     "traceback": [
      "\u001b[0;31m---------------------------------------------------------------------------\u001b[0m",
      "\u001b[0;31mTypeError\u001b[0m                                 Traceback (most recent call last)",
      "\u001b[1;32m/efs/davidkartchner/sapbert/sapbert_preprocessing.ipynb Cell 5'\u001b[0m in \u001b[0;36m<cell line: 2>\u001b[0;34m()\u001b[0m\n\u001b[1;32m      <a href='vscode-notebook-cell://ssh-remote%2Bshared-gpu/efs/davidkartchner/sapbert/sapbert_preprocessing.ipynb#ch0000003vscode-remote?line=0'>1</a>\u001b[0m filtered \u001b[39m=\u001b[39m eng_filtered[eng_filtered[\u001b[39m'\u001b[39m\u001b[39msab\u001b[39m\u001b[39m'\u001b[39m]\u001b[39m.\u001b[39misin(st21pv_sources)]\u001b[39m.\u001b[39mdrop_duplicates()\n\u001b[0;32m----> <a href='vscode-notebook-cell://ssh-remote%2Bshared-gpu/efs/davidkartchner/sapbert/sapbert_preprocessing.ipynb#ch0000003vscode-remote?line=1'>2</a>\u001b[0m filtered\u001b[39m.\u001b[39;49mshape()\n",
      "\u001b[0;31mTypeError\u001b[0m: 'tuple' object is not callable"
     ]
    }
   ],
   "source": [
    "filtered = eng_filtered[eng_filtered['sab'].isin(st21pv_sources)].drop_duplicates()\n",
    "output = filtered[['cui','alias']].drop_duplicates()\n"
   ]
  },
  {
   "cell_type": "code",
   "execution_count": 14,
   "metadata": {},
   "outputs": [
    {
     "name": "stdout",
     "output_type": "stream",
     "text": [
      "(6737604, 2)\n"
     ]
    },
    {
     "data": {
      "text/html": [
       "<div>\n",
       "<style scoped>\n",
       "    .dataframe tbody tr th:only-of-type {\n",
       "        vertical-align: middle;\n",
       "    }\n",
       "\n",
       "    .dataframe tbody tr th {\n",
       "        vertical-align: top;\n",
       "    }\n",
       "\n",
       "    .dataframe thead th {\n",
       "        text-align: right;\n",
       "    }\n",
       "</style>\n",
       "<table border=\"1\" class=\"dataframe\">\n",
       "  <thead>\n",
       "    <tr style=\"text-align: right;\">\n",
       "      <th></th>\n",
       "      <th>cui</th>\n",
       "      <th>lang</th>\n",
       "      <th>sab</th>\n",
       "      <th>alias</th>\n",
       "    </tr>\n",
       "  </thead>\n",
       "  <tbody>\n",
       "    <tr>\n",
       "      <th>0</th>\n",
       "      <td>C0000005</td>\n",
       "      <td>ENG</td>\n",
       "      <td>MSH</td>\n",
       "      <td>(131)i-macroaggregated albumin</td>\n",
       "    </tr>\n",
       "    <tr>\n",
       "      <th>1</th>\n",
       "      <td>C0000005</td>\n",
       "      <td>ENG</td>\n",
       "      <td>MSH</td>\n",
       "      <td>(131)i-maa</td>\n",
       "    </tr>\n",
       "    <tr>\n",
       "      <th>10</th>\n",
       "      <td>C0000039</td>\n",
       "      <td>ENG</td>\n",
       "      <td>RXNORM</td>\n",
       "      <td>1,2-dipalmitoylphosphatidylcholine</td>\n",
       "    </tr>\n",
       "    <tr>\n",
       "      <th>11</th>\n",
       "      <td>C0000039</td>\n",
       "      <td>ENG</td>\n",
       "      <td>MTH</td>\n",
       "      <td>1,2-dipalmitoylphosphatidylcholine</td>\n",
       "    </tr>\n",
       "    <tr>\n",
       "      <th>12</th>\n",
       "      <td>C0000039</td>\n",
       "      <td>ENG</td>\n",
       "      <td>MSH</td>\n",
       "      <td>1,2-dipalmitoylphosphatidylcholine</td>\n",
       "    </tr>\n",
       "  </tbody>\n",
       "</table>\n",
       "</div>"
      ],
      "text/plain": [
       "         cui lang     sab                               alias\n",
       "0   C0000005  ENG     MSH      (131)i-macroaggregated albumin\n",
       "1   C0000005  ENG     MSH                          (131)i-maa\n",
       "10  C0000039  ENG  RXNORM  1,2-dipalmitoylphosphatidylcholine\n",
       "11  C0000039  ENG     MTH  1,2-dipalmitoylphosphatidylcholine\n",
       "12  C0000039  ENG     MSH  1,2-dipalmitoylphosphatidylcholine"
      ]
     },
     "execution_count": 14,
     "metadata": {},
     "output_type": "execute_result"
    }
   ],
   "source": [
    "output = filtered[['cui','alias']].drop_duplicates()\n",
    "print(output.shape)\n",
    "filtered.head()\n"
   ]
  },
  {
   "cell_type": "code",
   "execution_count": 15,
   "metadata": {},
   "outputs": [
    {
     "data": {
      "text/html": [
       "<div>\n",
       "<style scoped>\n",
       "    .dataframe tbody tr th:only-of-type {\n",
       "        vertical-align: middle;\n",
       "    }\n",
       "\n",
       "    .dataframe tbody tr th {\n",
       "        vertical-align: top;\n",
       "    }\n",
       "\n",
       "    .dataframe thead th {\n",
       "        text-align: right;\n",
       "    }\n",
       "</style>\n",
       "<table border=\"1\" class=\"dataframe\">\n",
       "  <thead>\n",
       "    <tr style=\"text-align: right;\">\n",
       "      <th></th>\n",
       "      <th>cui</th>\n",
       "      <th>alias</th>\n",
       "    </tr>\n",
       "  </thead>\n",
       "  <tbody>\n",
       "    <tr>\n",
       "      <th>0</th>\n",
       "      <td>C0000005</td>\n",
       "      <td>(131)i-macroaggregated albumin</td>\n",
       "    </tr>\n",
       "    <tr>\n",
       "      <th>1</th>\n",
       "      <td>C0000005</td>\n",
       "      <td>(131)i-maa</td>\n",
       "    </tr>\n",
       "    <tr>\n",
       "      <th>10</th>\n",
       "      <td>C0000039</td>\n",
       "      <td>1,2-dipalmitoylphosphatidylcholine</td>\n",
       "    </tr>\n",
       "    <tr>\n",
       "      <th>13</th>\n",
       "      <td>C0000039</td>\n",
       "      <td>1,2 dipalmitoylphosphatidylcholine</td>\n",
       "    </tr>\n",
       "    <tr>\n",
       "      <th>14</th>\n",
       "      <td>C0000039</td>\n",
       "      <td>1,2-dihexadecyl-sn-glycerophosphocholine</td>\n",
       "    </tr>\n",
       "  </tbody>\n",
       "</table>\n",
       "</div>"
      ],
      "text/plain": [
       "         cui                                     alias\n",
       "0   C0000005            (131)i-macroaggregated albumin\n",
       "1   C0000005                                (131)i-maa\n",
       "10  C0000039        1,2-dipalmitoylphosphatidylcholine\n",
       "13  C0000039        1,2 dipalmitoylphosphatidylcholine\n",
       "14  C0000039  1,2-dihexadecyl-sn-glycerophosphocholine"
      ]
     },
     "execution_count": 15,
     "metadata": {},
     "output_type": "execute_result"
    }
   ],
   "source": [
    "output.head()"
   ]
  },
  {
   "cell_type": "code",
   "execution_count": 16,
   "metadata": {},
   "outputs": [],
   "source": [
    "np.savetxt('/efs/davidkartchner/sapbert/data/medmentions/umls_dict_uncased.txt', output, delimiter='||', fmt='%s', comments='', encoding=None)"
   ]
  },
  {
   "cell_type": "markdown",
   "metadata": {},
   "source": [
    "## Process MedMentions dataset to SAPBERT format"
   ]
  },
  {
   "cell_type": "code",
   "execution_count": 3,
   "metadata": {},
   "outputs": [
    {
     "name": "stdout",
     "output_type": "stream",
     "text": [
      "Downloading and preparing dataset med_mentions_dataset/medmentions_st21pv_bigbio_kb to /home/davidkartchner/.cache/huggingface/datasets/med_mentions_dataset/medmentions_st21pv_bigbio_kb/1.0.0/52b27a04ca8f065ee2eaa96a56bea0f4aac8f3b43c3a6516e0b3c985b2657448...\n"
     ]
    },
    {
     "data": {
      "application/vnd.jupyter.widget-view+json": {
       "model_id": "1e7533a33b8343578f4c7489b1da3a71",
       "version_major": 2,
       "version_minor": 0
      },
      "text/plain": [
       "Downloading data files:   0%|          | 0/4 [00:00<?, ?it/s]"
      ]
     },
     "metadata": {},
     "output_type": "display_data"
    },
    {
     "data": {
      "application/vnd.jupyter.widget-view+json": {
       "model_id": "e051886cd70e479ca834907b2d9061d6",
       "version_major": 2,
       "version_minor": 0
      },
      "text/plain": [
       "Extracting data files:   0%|          | 0/4 [00:00<?, ?it/s]"
      ]
     },
     "metadata": {},
     "output_type": "display_data"
    },
    {
     "data": {
      "application/vnd.jupyter.widget-view+json": {
       "model_id": "822ceb105ec946efbe19e3305a4386a6",
       "version_major": 2,
       "version_minor": 0
      },
      "text/plain": [
       "Generating train split: 0 examples [00:00, ? examples/s]"
      ]
     },
     "metadata": {},
     "output_type": "display_data"
    },
    {
     "data": {
      "application/vnd.jupyter.widget-view+json": {
       "model_id": "5f1295e0e1044b00a6c1ed48108fd566",
       "version_major": 2,
       "version_minor": 0
      },
      "text/plain": [
       "Generating test split: 0 examples [00:00, ? examples/s]"
      ]
     },
     "metadata": {},
     "output_type": "display_data"
    },
    {
     "data": {
      "application/vnd.jupyter.widget-view+json": {
       "model_id": "166a0f3809294b73947c674824136f81",
       "version_major": 2,
       "version_minor": 0
      },
      "text/plain": [
       "Generating validation split: 0 examples [00:00, ? examples/s]"
      ]
     },
     "metadata": {},
     "output_type": "display_data"
    },
    {
     "name": "stdout",
     "output_type": "stream",
     "text": [
      "Dataset med_mentions_dataset downloaded and prepared to /home/davidkartchner/.cache/huggingface/datasets/med_mentions_dataset/medmentions_st21pv_bigbio_kb/1.0.0/52b27a04ca8f065ee2eaa96a56bea0f4aac8f3b43c3a6516e0b3c985b2657448. Subsequent calls will reuse this data.\n"
     ]
    },
    {
     "data": {
      "application/vnd.jupyter.widget-view+json": {
       "model_id": "a02515e64a5947f9b893179cb7f264e2",
       "version_major": 2,
       "version_minor": 0
      },
      "text/plain": [
       "  0%|          | 0/3 [00:00<?, ?it/s]"
      ]
     },
     "metadata": {},
     "output_type": "display_data"
    },
    {
     "ename": "FileNotFoundError",
     "evalue": "[Errno 2] No such file or directory: '~/entity_linking_review/sapbert/data/medmentions/processed_test/25847295.concept'",
     "output_type": "error",
     "traceback": [
      "\u001b[0;31m---------------------------------------------------------------------------\u001b[0m",
      "\u001b[0;31mFileNotFoundError\u001b[0m                         Traceback (most recent call last)",
      "\u001b[1;32m/home/davidkartchner/entity_linking_review/scispacy/sapbert_preprocessing.ipynb Cell 7'\u001b[0m in \u001b[0;36m<cell line: 4>\u001b[0;34m()\u001b[0m\n\u001b[1;32m     <a href='vscode-notebook-cell://ssh-remote%2Bds/home/davidkartchner/entity_linking_review/scispacy/sapbert_preprocessing.ipynb#ch0000006vscode-remote?line=10'>11</a>\u001b[0m     tui \u001b[39m=\u001b[39m e[\u001b[39m'\u001b[39m\u001b[39mtype\u001b[39m\u001b[39m'\u001b[39m]\n\u001b[1;32m     <a href='vscode-notebook-cell://ssh-remote%2Bds/home/davidkartchner/entity_linking_review/scispacy/sapbert_preprocessing.ipynb#ch0000006vscode-remote?line=11'>12</a>\u001b[0m     all_ents\u001b[39m.\u001b[39mappend(\u001b[39m'\u001b[39m\u001b[39m||\u001b[39m\u001b[39m'\u001b[39m\u001b[39m.\u001b[39mjoin([pmid, offsets, tui, text, cui]))\n\u001b[0;32m---> <a href='vscode-notebook-cell://ssh-remote%2Bds/home/davidkartchner/entity_linking_review/scispacy/sapbert_preprocessing.ipynb#ch0000006vscode-remote?line=12'>13</a>\u001b[0m \u001b[39mwith\u001b[39;00m \u001b[39mopen\u001b[39;49m(\u001b[39mf\u001b[39;49m\u001b[39m'\u001b[39;49m\u001b[39m~/entity_linking_review/sapbert/data/medmentions/processed_test/\u001b[39;49m\u001b[39m{\u001b[39;49;00mpmid\u001b[39m}\u001b[39;49;00m\u001b[39m.concept\u001b[39;49m\u001b[39m'\u001b[39;49m, \u001b[39m'\u001b[39;49m\u001b[39mw\u001b[39;49m\u001b[39m'\u001b[39;49m) \u001b[39mas\u001b[39;00m f:\n\u001b[1;32m     <a href='vscode-notebook-cell://ssh-remote%2Bds/home/davidkartchner/entity_linking_review/scispacy/sapbert_preprocessing.ipynb#ch0000006vscode-remote?line=13'>14</a>\u001b[0m     f\u001b[39m.\u001b[39mwrite(\u001b[39m'\u001b[39m\u001b[39m\\n\u001b[39;00m\u001b[39m'\u001b[39m\u001b[39m.\u001b[39mjoin(all_ents))\n",
      "\u001b[0;31mFileNotFoundError\u001b[0m: [Errno 2] No such file or directory: '~/entity_linking_review/sapbert/data/medmentions/processed_test/25847295.concept'"
     ]
    }
   ],
   "source": [
    "conhelps = BigBioConfigHelpers()\n",
    "medmentions = conhelps.for_config_name('medmentions_st21pv_bigbio_kb').load_dataset()\n"
   ]
  },
  {
   "cell_type": "code",
   "execution_count": 8,
   "metadata": {},
   "outputs": [],
   "source": [
    "\n",
    "for split in ['train','test','validation']:\n",
    "    for abs in medmentions[split]:\n",
    "        pmid = abs['document_id']\n",
    "        all_ents = []\n",
    "        for e in abs['entities']:\n",
    "            text = e['text'][0]\n",
    "            offsets = '|'.join([str(i) for i in e['offsets'][0]])\n",
    "            cui = e['normalized'][0]['db_id'].split(':')[-1]\n",
    "            tui = e['type']\n",
    "            all_ents.append('||'.join([pmid, offsets, tui, text, cui]))\n",
    "        with open(f'/home/davidkartchner/entity_linking_review/sapbert/data/medmentions/processed_{split}/{pmid}.concept', 'w') as f:\n",
    "            f.write('\\n'.join(all_ents))\n",
    "    \n"
   ]
  },
  {
   "cell_type": "markdown",
   "metadata": {},
   "source": [
    "## Evaluate SapBERT"
   ]
  },
  {
   "cell_type": "code",
   "execution_count": null,
   "metadata": {},
   "outputs": [],
   "source": []
  }
 ],
 "metadata": {
  "kernelspec": {
   "display_name": "scispacy",
   "language": "python",
   "name": "scispacy"
  },
  "language_info": {
   "codemirror_mode": {
    "name": "ipython",
    "version": 3
   },
   "file_extension": ".py",
   "mimetype": "text/x-python",
   "name": "python",
   "nbconvert_exporter": "python",
   "pygments_lexer": "ipython3",
   "version": "3.10.5"
  },
  "vscode": {
   "interpreter": {
    "hash": "31f2aee4e71d21fbe5cf8b01ff0e069b9275f58929596ceb00d14d90e3e16cd6"
   }
  }
 },
 "nbformat": 4,
 "nbformat_minor": 2
}
